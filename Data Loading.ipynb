{
 "cells": [
  {
   "cell_type": "markdown",
   "metadata": {},
   "source": [
    "1. Reading in data\n",
    "    + `read.table()`\n",
    "    + `read.csv(), read.delim()`\n",
    "2. Analysis\n",
    "    + Manipulating & reshaping the data\n",
    "        + perhaps dealing with \"missing data\"\n",
    "    + Any maths you like\n",
    "    + Diagnostic Plots\n",
    "3. Writing out results\n",
    "    + `write.table()`\n",
    "    + `write.csv()`"
   ]
  },
  {
   "cell_type": "code",
   "execution_count": 28,
   "metadata": {},
   "outputs": [
    {
     "name": "stdout",
     "output_type": "stream",
     "text": [
      "    sepal_length_cm sepal_width_cm petal_length_cm petal_width_cm\n",
      "1             5.100            3.5             1.4            0.2\n",
      "2             4.900            3.0             1.4            0.2\n",
      "3             4.700            3.2             1.3            0.2\n",
      "4             4.600            3.1             1.5            0.2\n",
      "5             5.000            3.6             1.4            0.2\n",
      "6             5.400            3.9             1.7            0.4\n",
      "7             4.600            3.4             1.4            0.3\n",
      "8             5.000            3.4             1.5             NA\n",
      "9             4.400            2.9             1.4             NA\n",
      "10            4.900            3.1             1.5             NA\n",
      "11            5.400            3.7             1.5             NA\n",
      "12            4.800            3.4             1.6             NA\n",
      "13            4.800            3.0             1.4            0.1\n",
      "14            5.700            3.0             1.1            0.1\n",
      "15            5.800            4.0             1.2            0.2\n",
      "16            5.700            4.4             1.5            0.4\n",
      "17            5.400            3.9             1.3            0.4\n",
      "18            5.100            3.5             1.4            0.3\n",
      "19            5.700            3.8             1.7            0.3\n",
      "20            5.100            3.8             1.5            0.3\n",
      "21            5.400            3.4             1.7            0.2\n",
      "22            5.100            3.7             1.5            0.4\n",
      "23            4.600            3.6             1.0            0.2\n",
      "24            5.100            3.3             1.7            0.5\n",
      "25            4.800            3.4             1.9            0.2\n",
      "26            5.000            3.0             1.6            0.2\n",
      "27            5.000            3.4             1.6            0.4\n",
      "28            5.200            3.5             1.5            0.2\n",
      "29            5.200            3.4             1.4            0.2\n",
      "30            4.700            3.2             1.6            0.2\n",
      "31            4.800            3.1             1.6            0.2\n",
      "32            5.400            3.4             1.5            0.4\n",
      "33            5.200            4.1             1.5            0.1\n",
      "34            5.500            4.2             1.4            0.2\n",
      "35            4.900            3.1             1.5            0.1\n",
      "36            5.000            3.2             1.2            0.2\n",
      "37            5.500            3.5             1.3            0.2\n",
      "38            4.900            3.1             1.5            0.1\n",
      "39            4.400            3.0             1.3            0.2\n",
      "40            5.100            3.4             1.5            0.2\n",
      "41            5.000            3.5             1.3            0.3\n",
      "42            4.500            2.3             1.3            0.3\n",
      "43            4.400            3.2             1.3            0.2\n",
      "44            5.000            3.5             1.6            0.6\n",
      "45            5.100            3.8             1.9            0.4\n",
      "46            4.800            3.0             1.4            0.3\n",
      "47            5.100            3.8             1.6            0.2\n",
      "48            4.600            3.2             1.4            0.2\n",
      "49            5.300            3.7             1.5            0.2\n",
      "50            5.000            3.3             1.4            0.2\n",
      "51            7.000            3.2             4.7            1.4\n",
      "52            6.400            3.2             4.5            1.5\n",
      "53            6.900            3.1             4.9            1.5\n",
      "54            5.500            2.3             4.0            1.3\n",
      "55            6.500            2.8             4.6            1.5\n",
      "56            5.700            2.8             4.5            1.3\n",
      "57            6.300            3.3             4.7            1.6\n",
      "58            4.900            2.4             3.3            1.0\n",
      "59            6.600            2.9             4.6            1.3\n",
      "60            5.200            2.7             3.9            1.4\n",
      "61            5.000            2.0             3.5            1.0\n",
      "62            5.900            3.0             4.2            1.5\n",
      "63            6.000            2.2             4.0            1.0\n",
      "64            6.100            2.9             4.7            1.4\n",
      "65            5.600            2.9             3.6            1.3\n",
      "66            6.700            3.1             4.4            1.4\n",
      "67            5.600            3.0             4.5            1.5\n",
      "68            5.800            2.7             4.1            1.0\n",
      "69            6.200            2.2             4.5            1.5\n",
      "70            5.600            2.5             3.9            1.1\n",
      "71            5.900            3.2             4.8            1.8\n",
      "72            6.100            2.8             4.0            1.3\n",
      "73            6.300            2.5             4.9            1.5\n",
      "74            6.100            2.8             4.7            1.2\n",
      "75            6.400            2.9             4.3            1.3\n",
      "76            6.600            3.0             4.4            1.4\n",
      "77            6.800            2.8             4.8            1.4\n",
      "78            0.067            3.0             5.0            1.7\n",
      "79            0.060            2.9             4.5            1.5\n",
      "80            0.057            2.6             3.5            1.0\n",
      "81            0.055            2.4             3.8            1.1\n",
      "82            0.055            2.4             3.7            1.0\n",
      "83            5.800            2.7             3.9            1.2\n",
      "84            6.000            2.8             5.1            1.6\n",
      "85            5.400            3.0             4.5            1.5\n",
      "86            6.000            3.4             4.5            1.6\n",
      "87            6.700            3.1             4.7            1.5\n",
      "88            6.300            2.3             4.4            1.3\n",
      "89            5.600            3.0             4.1            1.3\n",
      "90            5.500            2.5             4.0            1.3\n",
      "91            5.500            2.6             4.4            1.2\n",
      "92            6.100            3.0             4.6            1.4\n",
      "93            5.800            2.6             4.0            1.2\n",
      "94            5.000            2.3             3.3            1.0\n",
      "95            5.600            2.7             4.2            1.3\n",
      "96            5.700            3.0             4.2            1.2\n",
      "97            5.700            2.9             4.2            1.3\n",
      "98            6.200            2.9             4.3            1.3\n",
      "99            5.100            2.5             3.0            1.1\n",
      "100           5.700            2.8             4.1            1.3\n",
      "101           6.300            3.3             6.0            2.5\n",
      "102           5.800            2.7             5.1            1.9\n",
      "103           7.100            3.0             5.9            2.1\n",
      "104           6.300            2.9             5.6            1.8\n",
      "105           6.500            3.0             5.8            2.2\n",
      "106           7.600            3.0             6.6            2.1\n",
      "107           4.900            2.5             4.5            1.7\n",
      "108           7.300            2.9             6.3            1.8\n",
      "109           6.700            2.5             5.8            1.8\n",
      "110           7.200            3.6             6.1            2.5\n",
      "111           6.500            3.2             5.1            2.0\n",
      "112           6.400            2.7             5.3            1.9\n",
      "113           6.800            3.0             5.5            2.1\n",
      "114           5.700            2.5             5.0            2.0\n",
      "115           5.800            2.8             5.1            2.4\n",
      "116           6.400            3.2             5.3            2.3\n",
      "117           6.500            3.0             5.5            1.8\n",
      "118           7.700            3.8             6.7            2.2\n",
      "119           7.700            2.6             6.9            2.3\n",
      "120           6.000            2.2             5.0            1.5\n",
      "121           6.900            3.2             5.7            2.3\n",
      "122           5.600            2.8             4.9            2.0\n",
      "123           5.600            2.8             6.7            2.0\n",
      "124           6.300            2.7             4.9            1.8\n",
      "125           6.700            3.3             5.7            2.1\n",
      "126           7.200            3.2             6.0            1.8\n",
      "127           6.200            2.8             4.8            1.8\n",
      "128           6.100            3.0             4.9            1.8\n",
      "129           6.400            2.8             5.6            2.1\n",
      "130           7.200            3.0             5.8            1.6\n",
      "131           7.400            2.8             6.1            1.9\n",
      "132           7.900            3.8             6.4            2.0\n",
      "133           6.400            2.8             5.6            2.2\n",
      "134           6.300            2.8             5.1            1.5\n",
      "135           6.100            2.6             5.6            1.4\n",
      "136           7.700            3.0             6.1            2.3\n",
      "137           6.300            3.4             5.6            2.4\n",
      "138           6.400            3.1             5.5            1.8\n",
      "139           6.000            3.0             4.8            1.8\n",
      "140           6.900            3.1             5.4            2.1\n",
      "141           6.700            3.1             5.6            2.4\n",
      "142           6.900            3.1             5.1            2.3\n",
      "143           5.800            2.7             5.1            1.9\n",
      "144           6.800            3.2             5.9            2.3\n",
      "145           6.700            3.3             5.7            2.5\n",
      "146           6.700            3.0             5.2            2.3\n",
      "147           6.300            2.5             5.0            2.3\n",
      "148           6.500            3.0             5.2            2.0\n",
      "149           6.200            3.4             5.4            2.3\n",
      "150           5.900            3.0             5.1            1.8\n",
      "              class\n",
      "1       Iris-setosa\n",
      "2       Iris-setosa\n",
      "3       Iris-setosa\n",
      "4       Iris-setosa\n",
      "5       Iris-setosa\n",
      "6       Iris-setosa\n",
      "7       Iris-setosa\n",
      "8       Iris-setosa\n",
      "9       Iris-setosa\n",
      "10      Iris-setosa\n",
      "11      Iris-setosa\n",
      "12      Iris-setosa\n",
      "13      Iris-setosa\n",
      "14      Iris-setosa\n",
      "15      Iris-setosa\n",
      "16      Iris-setosa\n",
      "17      Iris-setosa\n",
      "18      Iris-setosa\n",
      "19     Iris-setossa\n",
      "20      Iris-setosa\n",
      "21      Iris-setosa\n",
      "22      Iris-setosa\n",
      "23      Iris-setosa\n",
      "24      Iris-setosa\n",
      "25      Iris-setosa\n",
      "26      Iris-setosa\n",
      "27      Iris-setosa\n",
      "28      Iris-setosa\n",
      "29      Iris-setosa\n",
      "30      Iris-setosa\n",
      "31      Iris-setosa\n",
      "32      Iris-setosa\n",
      "33      Iris-setosa\n",
      "34      Iris-setosa\n",
      "35      Iris-setosa\n",
      "36      Iris-setosa\n",
      "37      Iris-setosa\n",
      "38      Iris-setosa\n",
      "39      Iris-setosa\n",
      "40      Iris-setosa\n",
      "41      Iris-setosa\n",
      "42      Iris-setosa\n",
      "43      Iris-setosa\n",
      "44      Iris-setosa\n",
      "45      Iris-setosa\n",
      "46      Iris-setosa\n",
      "47      Iris-setosa\n",
      "48      Iris-setosa\n",
      "49      Iris-setosa\n",
      "50      Iris-setosa\n",
      "51  Iris-versicolor\n",
      "52  Iris-versicolor\n",
      "53  Iris-versicolor\n",
      "54  Iris-versicolor\n",
      "55  Iris-versicolor\n",
      "56  Iris-versicolor\n",
      "57  Iris-versicolor\n",
      "58  Iris-versicolor\n",
      "59  Iris-versicolor\n",
      "60  Iris-versicolor\n",
      "61  Iris-versicolor\n",
      "62  Iris-versicolor\n",
      "63  Iris-versicolor\n",
      "64  Iris-versicolor\n",
      "65  Iris-versicolor\n",
      "66  Iris-versicolor\n",
      "67  Iris-versicolor\n",
      "68  Iris-versicolor\n",
      "69  Iris-versicolor\n",
      "70  Iris-versicolor\n",
      "71  Iris-versicolor\n",
      "72  Iris-versicolor\n",
      "73  Iris-versicolor\n",
      "74  Iris-versicolor\n",
      "75  Iris-versicolor\n",
      "76  Iris-versicolor\n",
      "77  Iris-versicolor\n",
      "78  Iris-versicolor\n",
      "79  Iris-versicolor\n",
      "80  Iris-versicolor\n",
      "81  Iris-versicolor\n",
      "82  Iris-versicolor\n",
      "83  Iris-versicolor\n",
      "84  Iris-versicolor\n",
      "85  Iris-versicolor\n",
      "86  Iris-versicolor\n",
      "87  Iris-versicolor\n",
      "88  Iris-versicolor\n",
      "89  Iris-versicolor\n",
      "90  Iris-versicolor\n",
      "91  Iris-versicolor\n",
      "92  Iris-versicolor\n",
      "93  Iris-versicolor\n",
      "94  Iris-versicolor\n",
      "95  Iris-versicolor\n",
      "96       versicolor\n",
      "97       versicolor\n",
      "98       versicolor\n",
      "99       versicolor\n",
      "100      versicolor\n",
      "101  Iris-virginica\n",
      "102  Iris-virginica\n",
      "103  Iris-virginica\n",
      "104  Iris-virginica\n",
      "105  Iris-virginica\n",
      "106  Iris-virginica\n",
      "107  Iris-virginica\n",
      "108  Iris-virginica\n",
      "109  Iris-virginica\n",
      "110  Iris-virginica\n",
      "111  Iris-virginica\n",
      "112  Iris-virginica\n",
      "113  Iris-virginica\n",
      "114  Iris-virginica\n",
      "115  Iris-virginica\n",
      "116  Iris-virginica\n",
      "117  Iris-virginica\n",
      "118  Iris-virginica\n",
      "119  Iris-virginica\n",
      "120  Iris-virginica\n",
      "121  Iris-virginica\n",
      "122  Iris-virginica\n",
      "123  Iris-virginica\n",
      "124  Iris-virginica\n",
      "125  Iris-virginica\n",
      "126  Iris-virginica\n",
      "127  Iris-virginica\n",
      "128  Iris-virginica\n",
      "129  Iris-virginica\n",
      "130  Iris-virginica\n",
      "131  Iris-virginica\n",
      "132  Iris-virginica\n",
      "133  Iris-virginica\n",
      "134  Iris-virginica\n",
      "135  Iris-virginica\n",
      "136  Iris-virginica\n",
      "137  Iris-virginica\n",
      "138  Iris-virginica\n",
      "139  Iris-virginica\n",
      "140  Iris-virginica\n",
      "141  Iris-virginica\n",
      "142  Iris-virginica\n",
      "143  Iris-virginica\n",
      "144  Iris-virginica\n",
      "145  Iris-virginica\n",
      "146  Iris-virginica\n",
      "147  Iris-virginica\n",
      "148  Iris-virginica\n",
      "149  Iris-virginica\n",
      "150  Iris-virginica\n"
     ]
    }
   ],
   "source": [
    "Data = read.csv(\"DataSets/iris-data.csv\",header = TRUE)\n",
    "print(Data)"
   ]
  },
  {
   "cell_type": "code",
   "execution_count": 48,
   "metadata": {},
   "outputs": [
    {
     "data": {
      "text/html": [
       "<ol class=list-inline>\n",
       "\t<li>'sepal_length_cm'</li>\n",
       "\t<li>'sepal_width_cm'</li>\n",
       "\t<li>'petal_length_cm'</li>\n",
       "\t<li>'petal_width_cm'</li>\n",
       "\t<li>'class'</li>\n",
       "</ol>\n"
      ],
      "text/latex": [
       "\\begin{enumerate*}\n",
       "\\item 'sepal\\_length\\_cm'\n",
       "\\item 'sepal\\_width\\_cm'\n",
       "\\item 'petal\\_length\\_cm'\n",
       "\\item 'petal\\_width\\_cm'\n",
       "\\item 'class'\n",
       "\\end{enumerate*}\n"
      ],
      "text/markdown": [
       "1. 'sepal_length_cm'\n",
       "2. 'sepal_width_cm'\n",
       "3. 'petal_length_cm'\n",
       "4. 'petal_width_cm'\n",
       "5. 'class'\n",
       "\n",
       "\n"
      ],
      "text/plain": [
       "[1] \"sepal_length_cm\" \"sepal_width_cm\"  \"petal_length_cm\" \"petal_width_cm\" \n",
       "[5] \"class\"          "
      ]
     },
     "metadata": {},
     "output_type": "display_data"
    }
   ],
   "source": [
    "names(Data)"
   ]
  },
  {
   "cell_type": "code",
   "execution_count": 54,
   "metadata": {},
   "outputs": [
    {
     "data": {
      "text/html": [
       "<table>\n",
       "<thead><tr><th scope=col>sepal_length_cm</th><th scope=col>sepal_width_cm</th><th scope=col>petal_length_cm</th><th scope=col>petal_width_cm</th><th scope=col>class</th></tr></thead>\n",
       "<tbody>\n",
       "\t<tr><td>5.1        </td><td>3.5        </td><td>1.4        </td><td>0.2        </td><td>Iris-setosa</td></tr>\n",
       "\t<tr><td>4.9        </td><td>3.0        </td><td>1.4        </td><td>0.2        </td><td>Iris-setosa</td></tr>\n",
       "\t<tr><td>4.7        </td><td>3.2        </td><td>1.3        </td><td>0.2        </td><td>Iris-setosa</td></tr>\n",
       "\t<tr><td>4.6        </td><td>3.1        </td><td>1.5        </td><td>0.2        </td><td>Iris-setosa</td></tr>\n",
       "\t<tr><td>5.0        </td><td>3.6        </td><td>1.4        </td><td>0.2        </td><td>Iris-setosa</td></tr>\n",
       "\t<tr><td>5.4        </td><td>3.9        </td><td>1.7        </td><td>0.4        </td><td>Iris-setosa</td></tr>\n",
       "</tbody>\n",
       "</table>\n"
      ],
      "text/latex": [
       "\\begin{tabular}{r|lllll}\n",
       " sepal\\_length\\_cm & sepal\\_width\\_cm & petal\\_length\\_cm & petal\\_width\\_cm & class\\\\\n",
       "\\hline\n",
       "\t 5.1         & 3.5         & 1.4         & 0.2         & Iris-setosa\\\\\n",
       "\t 4.9         & 3.0         & 1.4         & 0.2         & Iris-setosa\\\\\n",
       "\t 4.7         & 3.2         & 1.3         & 0.2         & Iris-setosa\\\\\n",
       "\t 4.6         & 3.1         & 1.5         & 0.2         & Iris-setosa\\\\\n",
       "\t 5.0         & 3.6         & 1.4         & 0.2         & Iris-setosa\\\\\n",
       "\t 5.4         & 3.9         & 1.7         & 0.4         & Iris-setosa\\\\\n",
       "\\end{tabular}\n"
      ],
      "text/markdown": [
       "\n",
       "sepal_length_cm | sepal_width_cm | petal_length_cm | petal_width_cm | class | \n",
       "|---|---|---|---|---|---|\n",
       "| 5.1         | 3.5         | 1.4         | 0.2         | Iris-setosa | \n",
       "| 4.9         | 3.0         | 1.4         | 0.2         | Iris-setosa | \n",
       "| 4.7         | 3.2         | 1.3         | 0.2         | Iris-setosa | \n",
       "| 4.6         | 3.1         | 1.5         | 0.2         | Iris-setosa | \n",
       "| 5.0         | 3.6         | 1.4         | 0.2         | Iris-setosa | \n",
       "| 5.4         | 3.9         | 1.7         | 0.4         | Iris-setosa | \n",
       "\n",
       "\n"
      ],
      "text/plain": [
       "  sepal_length_cm sepal_width_cm petal_length_cm petal_width_cm class      \n",
       "1 5.1             3.5            1.4             0.2            Iris-setosa\n",
       "2 4.9             3.0            1.4             0.2            Iris-setosa\n",
       "3 4.7             3.2            1.3             0.2            Iris-setosa\n",
       "4 4.6             3.1            1.5             0.2            Iris-setosa\n",
       "5 5.0             3.6            1.4             0.2            Iris-setosa\n",
       "6 5.4             3.9            1.7             0.4            Iris-setosa"
      ]
     },
     "metadata": {},
     "output_type": "display_data"
    }
   ],
   "source": [
    "head(Data)\n",
    "# head(Data,n=5)"
   ]
  },
  {
   "cell_type": "code",
   "execution_count": 33,
   "metadata": {},
   "outputs": [
    {
     "name": "stdout",
     "output_type": "stream",
     "text": [
      "'data.frame':\t150 obs. of  5 variables:\n",
      " $ sepal_length_cm: num  5.1 4.9 4.7 4.6 5 5.4 4.6 5 4.4 4.9 ...\n",
      " $ sepal_width_cm : num  3.5 3 3.2 3.1 3.6 3.9 3.4 3.4 2.9 3.1 ...\n",
      " $ petal_length_cm: num  1.4 1.4 1.3 1.5 1.4 1.7 1.4 1.5 1.4 1.5 ...\n",
      " $ petal_width_cm : num  0.2 0.2 0.2 0.2 0.2 0.4 0.3 NA NA NA ...\n",
      " $ class          : Factor w/ 5 levels \"Iris-setosa\",..: 1 1 1 1 1 1 1 1 1 1 ...\n"
     ]
    }
   ],
   "source": [
    "str(Data)"
   ]
  },
  {
   "cell_type": "code",
   "execution_count": 35,
   "metadata": {},
   "outputs": [
    {
     "data": {
      "text/plain": [
       " sepal_length_cm sepal_width_cm  petal_length_cm petal_width_cm \n",
       " Min.   :0.055   Min.   :2.000   Min.   :1.000   Min.   :0.100  \n",
       " 1st Qu.:5.100   1st Qu.:2.800   1st Qu.:1.600   1st Qu.:0.400  \n",
       " Median :5.700   Median :3.000   Median :4.350   Median :1.300  \n",
       " Mean   :5.645   Mean   :3.055   Mean   :3.759   Mean   :1.237  \n",
       " 3rd Qu.:6.400   3rd Qu.:3.300   3rd Qu.:5.100   3rd Qu.:1.800  \n",
       " Max.   :7.900   Max.   :4.400   Max.   :6.900   Max.   :2.500  \n",
       "                                                 NA's   :5      \n",
       "             class   \n",
       " Iris-setosa    :49  \n",
       " Iris-setossa   : 1  \n",
       " Iris-versicolor:45  \n",
       " Iris-virginica :50  \n",
       " versicolor     : 5  \n",
       "                     \n",
       "                     "
      ]
     },
     "metadata": {},
     "output_type": "display_data"
    }
   ],
   "source": [
    "summary(Data)"
   ]
  },
  {
   "cell_type": "code",
   "execution_count": 49,
   "metadata": {},
   "outputs": [
    {
     "data": {
      "text/html": [
       "<table>\n",
       "<thead><tr><th></th><th scope=col>sepal_length_cm</th><th scope=col>sepal_width_cm</th><th scope=col>petal_length_cm</th><th scope=col>petal_width_cm</th><th scope=col>class</th></tr></thead>\n",
       "<tbody>\n",
       "\t<tr><th scope=row>145</th><td>6.7           </td><td>3.3           </td><td>5.7           </td><td>2.5           </td><td>Iris-virginica</td></tr>\n",
       "\t<tr><th scope=row>146</th><td>6.7           </td><td>3.0           </td><td>5.2           </td><td>2.3           </td><td>Iris-virginica</td></tr>\n",
       "\t<tr><th scope=row>147</th><td>6.3           </td><td>2.5           </td><td>5.0           </td><td>2.3           </td><td>Iris-virginica</td></tr>\n",
       "\t<tr><th scope=row>148</th><td>6.5           </td><td>3.0           </td><td>5.2           </td><td>2.0           </td><td>Iris-virginica</td></tr>\n",
       "\t<tr><th scope=row>149</th><td>6.2           </td><td>3.4           </td><td>5.4           </td><td>2.3           </td><td>Iris-virginica</td></tr>\n",
       "\t<tr><th scope=row>150</th><td>5.9           </td><td>3.0           </td><td>5.1           </td><td>1.8           </td><td>Iris-virginica</td></tr>\n",
       "</tbody>\n",
       "</table>\n"
      ],
      "text/latex": [
       "\\begin{tabular}{r|lllll}\n",
       "  & sepal\\_length\\_cm & sepal\\_width\\_cm & petal\\_length\\_cm & petal\\_width\\_cm & class\\\\\n",
       "\\hline\n",
       "\t145 & 6.7            & 3.3            & 5.7            & 2.5            & Iris-virginica\\\\\n",
       "\t146 & 6.7            & 3.0            & 5.2            & 2.3            & Iris-virginica\\\\\n",
       "\t147 & 6.3            & 2.5            & 5.0            & 2.3            & Iris-virginica\\\\\n",
       "\t148 & 6.5            & 3.0            & 5.2            & 2.0            & Iris-virginica\\\\\n",
       "\t149 & 6.2            & 3.4            & 5.4            & 2.3            & Iris-virginica\\\\\n",
       "\t150 & 5.9            & 3.0            & 5.1            & 1.8            & Iris-virginica\\\\\n",
       "\\end{tabular}\n"
      ],
      "text/markdown": [
       "\n",
       "| <!--/--> | sepal_length_cm | sepal_width_cm | petal_length_cm | petal_width_cm | class | \n",
       "|---|---|---|---|---|---|\n",
       "| 145 | 6.7            | 3.3            | 5.7            | 2.5            | Iris-virginica | \n",
       "| 146 | 6.7            | 3.0            | 5.2            | 2.3            | Iris-virginica | \n",
       "| 147 | 6.3            | 2.5            | 5.0            | 2.3            | Iris-virginica | \n",
       "| 148 | 6.5            | 3.0            | 5.2            | 2.0            | Iris-virginica | \n",
       "| 149 | 6.2            | 3.4            | 5.4            | 2.3            | Iris-virginica | \n",
       "| 150 | 5.9            | 3.0            | 5.1            | 1.8            | Iris-virginica | \n",
       "\n",
       "\n"
      ],
      "text/plain": [
       "    sepal_length_cm sepal_width_cm petal_length_cm petal_width_cm\n",
       "145 6.7             3.3            5.7             2.5           \n",
       "146 6.7             3.0            5.2             2.3           \n",
       "147 6.3             2.5            5.0             2.3           \n",
       "148 6.5             3.0            5.2             2.0           \n",
       "149 6.2             3.4            5.4             2.3           \n",
       "150 5.9             3.0            5.1             1.8           \n",
       "    class         \n",
       "145 Iris-virginica\n",
       "146 Iris-virginica\n",
       "147 Iris-virginica\n",
       "148 Iris-virginica\n",
       "149 Iris-virginica\n",
       "150 Iris-virginica"
      ]
     },
     "metadata": {},
     "output_type": "display_data"
    }
   ],
   "source": [
    "tail(Data)"
   ]
  },
  {
   "cell_type": "code",
   "execution_count": 51,
   "metadata": {},
   "outputs": [
    {
     "data": {
      "text/html": [
       "150"
      ],
      "text/latex": [
       "150"
      ],
      "text/markdown": [
       "150"
      ],
      "text/plain": [
       "[1] 150"
      ]
     },
     "metadata": {},
     "output_type": "display_data"
    }
   ],
   "source": [
    "nrow(Data)"
   ]
  },
  {
   "cell_type": "code",
   "execution_count": 53,
   "metadata": {},
   "outputs": [
    {
     "data": {
      "text/html": [
       "5"
      ],
      "text/latex": [
       "5"
      ],
      "text/markdown": [
       "5"
      ],
      "text/plain": [
       "[1] 5"
      ]
     },
     "metadata": {},
     "output_type": "display_data"
    }
   ],
   "source": [
    "ncol(Data)"
   ]
  },
  {
   "cell_type": "code",
   "execution_count": 42,
   "metadata": {},
   "outputs": [
    {
     "data": {
      "text/html": [
       "'data.frame'"
      ],
      "text/latex": [
       "'data.frame'"
      ],
      "text/markdown": [
       "'data.frame'"
      ],
      "text/plain": [
       "[1] \"data.frame\""
      ]
     },
     "metadata": {},
     "output_type": "display_data"
    }
   ],
   "source": [
    "class(Data)"
   ]
  },
  {
   "cell_type": "code",
   "execution_count": 46,
   "metadata": {},
   "outputs": [
    {
     "data": {
      "text/html": [
       "<table>\n",
       "<thead><tr><th scope=col>sepal_length_cm</th></tr></thead>\n",
       "<tbody>\n",
       "\t<tr><td>5.1</td></tr>\n",
       "\t<tr><td>4.9</td></tr>\n",
       "\t<tr><td>4.7</td></tr>\n",
       "\t<tr><td>4.6</td></tr>\n",
       "\t<tr><td>5.0</td></tr>\n",
       "\t<tr><td>5.4</td></tr>\n",
       "\t<tr><td>4.6</td></tr>\n",
       "\t<tr><td>5.0</td></tr>\n",
       "\t<tr><td>4.4</td></tr>\n",
       "\t<tr><td>4.9</td></tr>\n",
       "\t<tr><td>5.4</td></tr>\n",
       "\t<tr><td>4.8</td></tr>\n",
       "\t<tr><td>4.8</td></tr>\n",
       "\t<tr><td>5.7</td></tr>\n",
       "\t<tr><td>5.8</td></tr>\n",
       "\t<tr><td>5.7</td></tr>\n",
       "\t<tr><td>5.4</td></tr>\n",
       "\t<tr><td>5.1</td></tr>\n",
       "\t<tr><td>5.7</td></tr>\n",
       "\t<tr><td>5.1</td></tr>\n",
       "\t<tr><td>5.4</td></tr>\n",
       "\t<tr><td>5.1</td></tr>\n",
       "\t<tr><td>4.6</td></tr>\n",
       "\t<tr><td>5.1</td></tr>\n",
       "\t<tr><td>4.8</td></tr>\n",
       "\t<tr><td>5.0</td></tr>\n",
       "\t<tr><td>5.0</td></tr>\n",
       "\t<tr><td>5.2</td></tr>\n",
       "\t<tr><td>5.2</td></tr>\n",
       "\t<tr><td>4.7</td></tr>\n",
       "\t<tr><td>...</td></tr>\n",
       "\t<tr><td>6.9</td></tr>\n",
       "\t<tr><td>5.6</td></tr>\n",
       "\t<tr><td>5.6</td></tr>\n",
       "\t<tr><td>6.3</td></tr>\n",
       "\t<tr><td>6.7</td></tr>\n",
       "\t<tr><td>7.2</td></tr>\n",
       "\t<tr><td>6.2</td></tr>\n",
       "\t<tr><td>6.1</td></tr>\n",
       "\t<tr><td>6.4</td></tr>\n",
       "\t<tr><td>7.2</td></tr>\n",
       "\t<tr><td>7.4</td></tr>\n",
       "\t<tr><td>7.9</td></tr>\n",
       "\t<tr><td>6.4</td></tr>\n",
       "\t<tr><td>6.3</td></tr>\n",
       "\t<tr><td>6.1</td></tr>\n",
       "\t<tr><td>7.7</td></tr>\n",
       "\t<tr><td>6.3</td></tr>\n",
       "\t<tr><td>6.4</td></tr>\n",
       "\t<tr><td>6.0</td></tr>\n",
       "\t<tr><td>6.9</td></tr>\n",
       "\t<tr><td>6.7</td></tr>\n",
       "\t<tr><td>6.9</td></tr>\n",
       "\t<tr><td>5.8</td></tr>\n",
       "\t<tr><td>6.8</td></tr>\n",
       "\t<tr><td>6.7</td></tr>\n",
       "\t<tr><td>6.7</td></tr>\n",
       "\t<tr><td>6.3</td></tr>\n",
       "\t<tr><td>6.5</td></tr>\n",
       "\t<tr><td>6.2</td></tr>\n",
       "\t<tr><td>5.9</td></tr>\n",
       "</tbody>\n",
       "</table>\n"
      ],
      "text/latex": [
       "\\begin{tabular}{r|l}\n",
       " sepal\\_length\\_cm\\\\\n",
       "\\hline\n",
       "\t 5.1\\\\\n",
       "\t 4.9\\\\\n",
       "\t 4.7\\\\\n",
       "\t 4.6\\\\\n",
       "\t 5.0\\\\\n",
       "\t 5.4\\\\\n",
       "\t 4.6\\\\\n",
       "\t 5.0\\\\\n",
       "\t 4.4\\\\\n",
       "\t 4.9\\\\\n",
       "\t 5.4\\\\\n",
       "\t 4.8\\\\\n",
       "\t 4.8\\\\\n",
       "\t 5.7\\\\\n",
       "\t 5.8\\\\\n",
       "\t 5.7\\\\\n",
       "\t 5.4\\\\\n",
       "\t 5.1\\\\\n",
       "\t 5.7\\\\\n",
       "\t 5.1\\\\\n",
       "\t 5.4\\\\\n",
       "\t 5.1\\\\\n",
       "\t 4.6\\\\\n",
       "\t 5.1\\\\\n",
       "\t 4.8\\\\\n",
       "\t 5.0\\\\\n",
       "\t 5.0\\\\\n",
       "\t 5.2\\\\\n",
       "\t 5.2\\\\\n",
       "\t 4.7\\\\\n",
       "\t ...\\\\\n",
       "\t 6.9\\\\\n",
       "\t 5.6\\\\\n",
       "\t 5.6\\\\\n",
       "\t 6.3\\\\\n",
       "\t 6.7\\\\\n",
       "\t 7.2\\\\\n",
       "\t 6.2\\\\\n",
       "\t 6.1\\\\\n",
       "\t 6.4\\\\\n",
       "\t 7.2\\\\\n",
       "\t 7.4\\\\\n",
       "\t 7.9\\\\\n",
       "\t 6.4\\\\\n",
       "\t 6.3\\\\\n",
       "\t 6.1\\\\\n",
       "\t 7.7\\\\\n",
       "\t 6.3\\\\\n",
       "\t 6.4\\\\\n",
       "\t 6.0\\\\\n",
       "\t 6.9\\\\\n",
       "\t 6.7\\\\\n",
       "\t 6.9\\\\\n",
       "\t 5.8\\\\\n",
       "\t 6.8\\\\\n",
       "\t 6.7\\\\\n",
       "\t 6.7\\\\\n",
       "\t 6.3\\\\\n",
       "\t 6.5\\\\\n",
       "\t 6.2\\\\\n",
       "\t 5.9\\\\\n",
       "\\end{tabular}\n"
      ],
      "text/markdown": [
       "\n",
       "sepal_length_cm | \n",
       "|---|---|---|---|---|---|---|---|---|---|---|---|---|---|---|---|---|---|---|---|---|---|---|---|---|---|---|---|---|---|---|---|---|---|---|---|---|---|---|---|---|---|---|---|---|---|---|---|---|---|---|---|---|---|---|---|---|---|---|---|---|\n",
       "| 5.1 | \n",
       "| 4.9 | \n",
       "| 4.7 | \n",
       "| 4.6 | \n",
       "| 5.0 | \n",
       "| 5.4 | \n",
       "| 4.6 | \n",
       "| 5.0 | \n",
       "| 4.4 | \n",
       "| 4.9 | \n",
       "| 5.4 | \n",
       "| 4.8 | \n",
       "| 4.8 | \n",
       "| 5.7 | \n",
       "| 5.8 | \n",
       "| 5.7 | \n",
       "| 5.4 | \n",
       "| 5.1 | \n",
       "| 5.7 | \n",
       "| 5.1 | \n",
       "| 5.4 | \n",
       "| 5.1 | \n",
       "| 4.6 | \n",
       "| 5.1 | \n",
       "| 4.8 | \n",
       "| 5.0 | \n",
       "| 5.0 | \n",
       "| 5.2 | \n",
       "| 5.2 | \n",
       "| 4.7 | \n",
       "| ... | \n",
       "| 6.9 | \n",
       "| 5.6 | \n",
       "| 5.6 | \n",
       "| 6.3 | \n",
       "| 6.7 | \n",
       "| 7.2 | \n",
       "| 6.2 | \n",
       "| 6.1 | \n",
       "| 6.4 | \n",
       "| 7.2 | \n",
       "| 7.4 | \n",
       "| 7.9 | \n",
       "| 6.4 | \n",
       "| 6.3 | \n",
       "| 6.1 | \n",
       "| 7.7 | \n",
       "| 6.3 | \n",
       "| 6.4 | \n",
       "| 6.0 | \n",
       "| 6.9 | \n",
       "| 6.7 | \n",
       "| 6.9 | \n",
       "| 5.8 | \n",
       "| 6.8 | \n",
       "| 6.7 | \n",
       "| 6.7 | \n",
       "| 6.3 | \n",
       "| 6.5 | \n",
       "| 6.2 | \n",
       "| 5.9 | \n",
       "\n",
       "\n"
      ],
      "text/plain": [
       "    sepal_length_cm\n",
       "1   5.1            \n",
       "2   4.9            \n",
       "3   4.7            \n",
       "4   4.6            \n",
       "5   5.0            \n",
       "6   5.4            \n",
       "7   4.6            \n",
       "8   5.0            \n",
       "9   4.4            \n",
       "10  4.9            \n",
       "11  5.4            \n",
       "12  4.8            \n",
       "13  4.8            \n",
       "14  5.7            \n",
       "15  5.8            \n",
       "16  5.7            \n",
       "17  5.4            \n",
       "18  5.1            \n",
       "19  5.7            \n",
       "20  5.1            \n",
       "21  5.4            \n",
       "22  5.1            \n",
       "23  4.6            \n",
       "24  5.1            \n",
       "25  4.8            \n",
       "26  5.0            \n",
       "27  5.0            \n",
       "28  5.2            \n",
       "29  5.2            \n",
       "30  4.7            \n",
       "... ...            \n",
       "121 6.9            \n",
       "122 5.6            \n",
       "123 5.6            \n",
       "124 6.3            \n",
       "125 6.7            \n",
       "126 7.2            \n",
       "127 6.2            \n",
       "128 6.1            \n",
       "129 6.4            \n",
       "130 7.2            \n",
       "131 7.4            \n",
       "132 7.9            \n",
       "133 6.4            \n",
       "134 6.3            \n",
       "135 6.1            \n",
       "136 7.7            \n",
       "137 6.3            \n",
       "138 6.4            \n",
       "139 6.0            \n",
       "140 6.9            \n",
       "141 6.7            \n",
       "142 6.9            \n",
       "143 5.8            \n",
       "144 6.8            \n",
       "145 6.7            \n",
       "146 6.7            \n",
       "147 6.3            \n",
       "148 6.5            \n",
       "149 6.2            \n",
       "150 5.9            "
      ]
     },
     "metadata": {},
     "output_type": "display_data"
    }
   ],
   "source": [
    "Data['sepal_length_cm']"
   ]
  },
  {
   "cell_type": "code",
   "execution_count": 69,
   "metadata": {},
   "outputs": [
    {
     "data": {
      "text/html": [
       "<table>\n",
       "<thead><tr><th></th><th scope=col>sepal_length_cm</th><th scope=col>sepal_width_cm</th><th scope=col>petal_length_cm</th><th scope=col>petal_width_cm</th><th scope=col>class</th></tr></thead>\n",
       "<tbody>\n",
       "\t<tr><th scope=row>143</th><td>5.8           </td><td>2.7           </td><td>5.1           </td><td>1.9           </td><td>Iris-virginica</td></tr>\n",
       "\t<tr><th scope=row>115</th><td>5.8           </td><td>2.8           </td><td>5.1           </td><td>2.4           </td><td>Iris-virginica</td></tr>\n",
       "\t<tr><th scope=row>116</th><td>6.4           </td><td>3.2           </td><td>5.3           </td><td>2.3           </td><td>Iris-virginica</td></tr>\n",
       "\t<tr><th scope=row>106</th><td>7.6           </td><td>3.0           </td><td>6.6           </td><td>2.1           </td><td>Iris-virginica</td></tr>\n",
       "\t<tr><th scope=row>117</th><td>6.5           </td><td>3.0           </td><td>5.5           </td><td>1.8           </td><td>Iris-virginica</td></tr>\n",
       "\t<tr><th scope=row>99</th><td>5.1           </td><td>2.5           </td><td>3.0           </td><td>1.1           </td><td>versicolor    </td></tr>\n",
       "</tbody>\n",
       "</table>\n"
      ],
      "text/latex": [
       "\\begin{tabular}{r|lllll}\n",
       "  & sepal\\_length\\_cm & sepal\\_width\\_cm & petal\\_length\\_cm & petal\\_width\\_cm & class\\\\\n",
       "\\hline\n",
       "\t143 & 5.8            & 2.7            & 5.1            & 1.9            & Iris-virginica\\\\\n",
       "\t115 & 5.8            & 2.8            & 5.1            & 2.4            & Iris-virginica\\\\\n",
       "\t116 & 6.4            & 3.2            & 5.3            & 2.3            & Iris-virginica\\\\\n",
       "\t106 & 7.6            & 3.0            & 6.6            & 2.1            & Iris-virginica\\\\\n",
       "\t117 & 6.5            & 3.0            & 5.5            & 1.8            & Iris-virginica\\\\\n",
       "\t99 & 5.1            & 2.5            & 3.0            & 1.1            & versicolor    \\\\\n",
       "\\end{tabular}\n"
      ],
      "text/markdown": [
       "\n",
       "| <!--/--> | sepal_length_cm | sepal_width_cm | petal_length_cm | petal_width_cm | class | \n",
       "|---|---|---|---|---|---|\n",
       "| 143 | 5.8            | 2.7            | 5.1            | 1.9            | Iris-virginica | \n",
       "| 115 | 5.8            | 2.8            | 5.1            | 2.4            | Iris-virginica | \n",
       "| 116 | 6.4            | 3.2            | 5.3            | 2.3            | Iris-virginica | \n",
       "| 106 | 7.6            | 3.0            | 6.6            | 2.1            | Iris-virginica | \n",
       "| 117 | 6.5            | 3.0            | 5.5            | 1.8            | Iris-virginica | \n",
       "| 99 | 5.1            | 2.5            | 3.0            | 1.1            | versicolor     | \n",
       "\n",
       "\n"
      ],
      "text/plain": [
       "    sepal_length_cm sepal_width_cm petal_length_cm petal_width_cm\n",
       "143 5.8             2.7            5.1             1.9           \n",
       "115 5.8             2.8            5.1             2.4           \n",
       "116 6.4             3.2            5.3             2.3           \n",
       "106 7.6             3.0            6.6             2.1           \n",
       "117 6.5             3.0            5.5             1.8           \n",
       "99  5.1             2.5            3.0             1.1           \n",
       "    class         \n",
       "143 Iris-virginica\n",
       "115 Iris-virginica\n",
       "116 Iris-virginica\n",
       "106 Iris-virginica\n",
       "117 Iris-virginica\n",
       "99  versicolor    "
      ]
     },
     "metadata": {},
     "output_type": "display_data"
    }
   ],
   "source": [
    "library(dplyr)\n",
    "sample_n(Data ,6)"
   ]
  },
  {
   "cell_type": "code",
   "execution_count": 59,
   "metadata": {},
   "outputs": [
    {
     "data": {
      "text/html": [
       "<dl class=dl-horizontal>\n",
       "\t<dt>sepal_length_cm</dt>\n",
       "\t\t<dd>0</dd>\n",
       "\t<dt>sepal_width_cm</dt>\n",
       "\t\t<dd>0</dd>\n",
       "\t<dt>petal_length_cm</dt>\n",
       "\t\t<dd>0</dd>\n",
       "\t<dt>petal_width_cm</dt>\n",
       "\t\t<dd>5</dd>\n",
       "\t<dt>class</dt>\n",
       "\t\t<dd>0</dd>\n",
       "</dl>\n"
      ],
      "text/latex": [
       "\\begin{description*}\n",
       "\\item[sepal\\textbackslash{}\\_length\\textbackslash{}\\_cm] 0\n",
       "\\item[sepal\\textbackslash{}\\_width\\textbackslash{}\\_cm] 0\n",
       "\\item[petal\\textbackslash{}\\_length\\textbackslash{}\\_cm] 0\n",
       "\\item[petal\\textbackslash{}\\_width\\textbackslash{}\\_cm] 5\n",
       "\\item[class] 0\n",
       "\\end{description*}\n"
      ],
      "text/markdown": [
       "sepal_length_cm\n",
       ":   0sepal_width_cm\n",
       ":   0petal_length_cm\n",
       ":   0petal_width_cm\n",
       ":   5class\n",
       ":   0\n",
       "\n"
      ],
      "text/plain": [
       "sepal_length_cm  sepal_width_cm petal_length_cm  petal_width_cm           class \n",
       "              0               0               0               5               0 "
      ]
     },
     "metadata": {},
     "output_type": "display_data"
    }
   ],
   "source": [
    "colSums(is.na(Data))"
   ]
  },
  {
   "cell_type": "code",
   "execution_count": 61,
   "metadata": {},
   "outputs": [
    {
     "data": {
      "text/html": [
       "<dl class=dl-horizontal>\n",
       "\t<dt>sepal_length_cm</dt>\n",
       "\t\t<dd>0</dd>\n",
       "\t<dt>sepal_width_cm</dt>\n",
       "\t\t<dd>0</dd>\n",
       "\t<dt>petal_length_cm</dt>\n",
       "\t\t<dd>0</dd>\n",
       "\t<dt>petal_width_cm</dt>\n",
       "\t\t<dd>5</dd>\n",
       "\t<dt>class</dt>\n",
       "\t\t<dd>0</dd>\n",
       "</dl>\n"
      ],
      "text/latex": [
       "\\begin{description*}\n",
       "\\item[sepal\\textbackslash{}\\_length\\textbackslash{}\\_cm] 0\n",
       "\\item[sepal\\textbackslash{}\\_width\\textbackslash{}\\_cm] 0\n",
       "\\item[petal\\textbackslash{}\\_length\\textbackslash{}\\_cm] 0\n",
       "\\item[petal\\textbackslash{}\\_width\\textbackslash{}\\_cm] 5\n",
       "\\item[class] 0\n",
       "\\end{description*}\n"
      ],
      "text/markdown": [
       "sepal_length_cm\n",
       ":   0sepal_width_cm\n",
       ":   0petal_length_cm\n",
       ":   0petal_width_cm\n",
       ":   5class\n",
       ":   0\n",
       "\n"
      ],
      "text/plain": [
       "sepal_length_cm  sepal_width_cm petal_length_cm  petal_width_cm           class \n",
       "              0               0               0               5               0 "
      ]
     },
     "metadata": {},
     "output_type": "display_data"
    }
   ],
   "source": [
    "sapply(Data,function(y)sum(is.na(y)))"
   ]
  },
  {
   "cell_type": "code",
   "execution_count": 70,
   "metadata": {},
   "outputs": [
    {
     "data": {
      "text/html": [
       "5"
      ],
      "text/latex": [
       "5"
      ],
      "text/markdown": [
       "5"
      ],
      "text/plain": [
       "[1] 5"
      ]
     },
     "metadata": {},
     "output_type": "display_data"
    }
   ],
   "source": [
    "sum(is.na(Data$petal_width_cm))"
   ]
  },
  {
   "cell_type": "code",
   "execution_count": 71,
   "metadata": {},
   "outputs": [
    {
     "data": {
      "text/html": [
       "0"
      ],
      "text/latex": [
       "0"
      ],
      "text/markdown": [
       "0"
      ],
      "text/plain": [
       "[1] 0"
      ]
     },
     "metadata": {},
     "output_type": "display_data"
    }
   ],
   "source": [
    "sum(is.na(Data$sepal_width_cm))"
   ]
  },
  {
   "cell_type": "code",
   "execution_count": 66,
   "metadata": {},
   "outputs": [
    {
     "data": {
      "text/html": [
       "0"
      ],
      "text/latex": [
       "0"
      ],
      "text/markdown": [
       "0"
      ],
      "text/plain": [
       "[1] 0"
      ]
     },
     "metadata": {},
     "output_type": "display_data"
    }
   ],
   "source": [
    "sum(is.na(Data$petal_length_cm))"
   ]
  },
  {
   "cell_type": "code",
   "execution_count": null,
   "metadata": {},
   "outputs": [],
   "source": []
  }
 ],
 "metadata": {
  "kernelspec": {
   "display_name": "R",
   "language": "R",
   "name": "ir"
  },
  "language_info": {
   "codemirror_mode": "r",
   "file_extension": ".r",
   "mimetype": "text/x-r-source",
   "name": "R",
   "pygments_lexer": "r",
   "version": "3.5.1"
  }
 },
 "nbformat": 4,
 "nbformat_minor": 2
}
