{
 "cells": [
  {
   "cell_type": "markdown",
   "metadata": {},
   "source": [
    "<h1 align=\"center\">Linear Regression</h1> \n",
    "\n",
    "Linear regression and how to treat if assumptions violate. It also covers fitting the model and calculating model performance metrics to check the performance of linear regression model. Linear Regression is one of the most popular statistical technique. It has been in use for more than 3 decades. It is widely accepted in almost every domain as it's easy to understand output of linear regression."
   ]
  },
  {
   "cell_type": "markdown",
   "metadata": {},
   "source": [
    "**Linear Regression:**\n",
    "\n",
    "It is a way of finding a relationship between a single, continuous variable called Dependent or Target variable and one or more other variables (continuous or not) called Independent Variables.\n",
    "\n",
    "**Formula and basics**\n",
    "\n",
    "![](https://lh3.googleusercontent.com/-EgdeTmbgk0Y/XPsuu2ZyK1I/AAAAAAAAdW0/tLgsQDVOenwSKGCIoHHlxKZ43Q2RIuVJwCK8BGAs/s0/2019-06-07.png)\n",
    "The mathematical formula of the linear regression can be written as y = b0 + b1*x + e, where:\n",
    "\n",
    "- b0 and b1 are known as the regression beta coefficients or parameters:\n",
    "- b0 is the intercept of the regression line; that is the predicted value when x = 0.\n",
    "- b1 is the slope of the regression line.\n",
    "- e is the error term (also known as the residual errors), the part of y that can be explained by the regression model\n",
    "\n",
    "The figure below illustrates the linear regression model, where:\n",
    "\n",
    "* the best-fit regression line is in blue\n",
    "* the intercept (b0) and the slope (b1) are shown in green\n",
    "* the error terms (e) are represented by vertical red lines\n",
    "\n",
    "![Linear Regression line](https://lh3.googleusercontent.com/-aoqCxanryF4/XPsrw6KrRiI/AAAAAAAAdWo/h-GTE2ALIgcRNR0ichPccEmc6G5_8axaQCK8BGAs/s303/2019-06-07.png)\n",
    "\n",
    "From the scatter plot above, it can be seen that not all the data points fall exactly on the fitted regression line. Some of the points are above the blue curve and some are below it; overall, the residual errors (e) have approximately mean zero.\n",
    "\n",
    "The sum of the squares of the residual errors are called the **Residual Sum of Squares or [RSS].**\n",
    "\n",
    "The average variation of points around the fitted regression line is called the **Residual Standard Error (RSE)**. This is one the metrics used to evaluate the overall quality of the fitted regression model. The lower the RSE, the better it is.\n",
    "\n",
    "Since the mean error term is zero, the outcome variable y can be approximately estimated as follow:\n",
    "\n",
    "y ~ b0 + b1*x\n",
    "\n",
    "Mathematically, the beta coefficients (b0 and b1) are determined so that the RSS is as minimal as possible. This method of determining the beta coefficients is technically called **least squares** regression or **ordinary least squares (OLS) regression.**\n",
    "\n",
    "Once, the beta coefficients are calculated, a t-test is performed to check whether or not these coefficients are significantly different from zero. A non-zero beta coefficients means that there is a significant relationship between the predictors (x) and the outcome variable (y).\n",
    "\n",
    "\n",
    "\n",
    "**It's a straight line curve.** In the above figure, diagonal red line is a regression line which is also called best-fitting straight line. The distance between dots and regression line is errors. Linear regression aims at finding best fitting straight line by minimizing the sum of squared vertical distance between dots and regression line.\n",
    "\n",
    "**Variable Type**\n",
    "\n",
    "Linear regression requires the dependent variable to be continuous i.e. numeric values (no categories or groups).\n",
    "\n",
    "**Simple vs. Multiple Linear Regression**\n",
    "\n",
    "- Linear regression can be simple linear regression when you have only one independent variable . \n",
    "- Whereas Multiple linear regression will have more than one independent variable.\n",
    "\n",
    "**Interpretation:** \n",
    "\n",
    "b0 is the intercept the expected mean value of dependent variable (Y) when all independent variables (Xs) are equal to 0. and b1 is the slope.\n",
    "\n",
    "b1 represents the amount by which dependent variable (Y) changes if we change X1 by one unit keeping other variables constant.\n",
    "\n",
    "**Important Term : Residual**\n",
    "\n",
    "The difference between an observed (actual) value of the dependent variable and the value of the dependent variable predicted from the regression line.\n",
    "\n",
    "### Algorithm\n",
    "Linear regression is based on least square estimation which says regression coefficients (estimates) should be chosen in such a way that it minimizes the sum of the squared distances of each observed response to its fitted value.\n",
    "\n",
    "***Minimum Sample Size***\n",
    "\n",
    "Linear regression requires 5 cases per independent variable in the analysis.\n",
    "\n",
    "\n",
    "### Assumptions of Linear Regression Analysis \n",
    "\n",
    "1. Linear Relationship : Linear regression needs a linear relationship between the dependent and independent variables.\n",
    "\n",
    "2. Normality of Residual : Linear regression requires residuals should be normally distributed.\n",
    "\n",
    "3. Homoscedasticity :  Linear regression assumes that residuals are approximately equal for all predicted dependent variable values. In other words, it means constant variance of errors.\n",
    "\n",
    "4. No Outlier Problem\n",
    "\n",
    "5. Multicollinearity : It means there is a high correlation between independent variables. The linear regression model MUST NOT be faced with problem of multicollinearity.\n",
    "\n",
    "6. Independence of error terms - No Autocorrelation\n",
    "\n",
    "It states that the errors associated with one observation are not correlated with the errors of any other observation. It is a problem when you use time series data. Suppose you have collected data from labors in eight different districts. It is likely that the labors within each district will tend to be more like one another that labors from different districts, that is, their errors are not independent.\n",
    "\n",
    "\n",
    "**Distribution of Linear Regression**\n",
    "\n",
    "Linear regression assumes target or dependent variable to be normally distributed. Normal Distribution is same as Gaussian distribution. It uses identity link function of gaussian family\n",
    "\n",
    "**Standardized Coefficients**\n",
    "\n",
    "The concept of standardization or standardized coefficients (aka estimates) comes into picture when predictors (aka independent variables) are expressed in different units. Suppose you have 3 independent variables - age, height and weight. The variable 'age' is expressed in years, height in cm, weight in kg. If we need to rank these predictors based on the unstandardized coefficient, it would not be a fair comparison as the unit of these variable is not same.\n",
    "\n",
    "Standardized Coefficients (or Estimates) are mainly used to rank predictors (or independent or explanatory variables) as it eliminate the units of measurement of  independent and dependent variables). We can rank independent variables with absolute value of standardized coefficients. The most important variable will have maximum absolute value of standardized coefficient.\n",
    "\n",
    "![](https://lh3.googleusercontent.com/-Jxl5t87BxdE/XPs0mEZllGI/AAAAAAAAdXA/nietA4ClThk9peCsufwck6jKKYugZ4VQQCK8BGAs/s0/2019-06-07.png)\n",
    "\n",
    "**Interpretation of Standardized Coefficient**\n",
    "\n",
    "A standardized coefficient value of 1.25 indicates that a change of one standard deviation in the independent variable results in a 1.25 standard deviations increase in the dependent variable.\n",
    "\n",
    "**Measures of Model Performance**\n",
    "\n",
    "1. **R-squared**\n",
    "\n",
    "It measures the proportion of the variation in your dependent variable explained by all of your independent variables in the model. It assumes that every independent variable in the model helps to explain variation in the dependent variable. In reality, some variables don't affect dependent variable and they don't help building a good model.\n",
    "\n",
    "![](https://lh3.googleusercontent.com/-elOs42r_ccs/XPs1fq3w-8I/AAAAAAAAdXI/pCIar4U8-BozxqGj8Ml23HClWhMGy9faACK8BGAs/s0/2019-06-07.png)\n",
    "\n",
    "In the numerator of equation above, yi-hat is the predicted value. Mean value of Y appears in denominator.\n",
    "\n",
    "***Rule :***\n",
    "\n",
    "Higher the R-squared, the better the model fits your data. In psychological surveys or studies, we generally found low R-squared values lower than 0.5. It is because we are trying to predict human behavior and it is not easy to predict humans. In these cases, if your R-squared value is low but you have statistically significant independent variables (aka predictors), you can still generate insights about how changes in the predictor values are associated with changes in the response value.\n",
    "\n",
    "***Can R-Squared be negative?***\n",
    "\n",
    "Yes, it is when horizontal line explains the data better than your model. It mostly happens when you do not include intercept. Without an intercept, the regression could do worse than the sample mean in terms of predicting the target variable. It is not only because of exclusion of intercept. It can be negative even with inclusion of intercept.\n",
    "\n",
    "***Mathematically***, it is possible when error sum-of-squares from the model is larger than the total sum-of-squares from the horizontal line.\n",
    "                \n",
    "                R-squared = 1 - [(Sum of Square Error)/(Total Sum of Square)]\n",
    "                \n",
    "2. **Adjusted R-squared**\n",
    "\n",
    "It measures the proportion of variation explained by only those independent variables that really affect the dependent variable. It penalizes you for adding independent variable that do not affect the dependent variable.\n",
    "![](https://lh3.googleusercontent.com/-0ohbV-H-3aY/XPtiQnx50mI/AAAAAAAAdXU/MXraj5c18eAd1dlQfmQunNV_BcsP0lBdgCK8BGAs/s0/2019-06-08.png)\n",
    "\n",
    "Adjusted R-Squared is more important metrics than R-squared\n",
    "\n",
    "Every time you add a independent variable to a model, the R-squared increases, even if the independent variable is insignificant. It never declines. Whereas Adjusted R-squared increases only when independent variable is significant and affects dependent variable.\n",
    "\n",
    "3. **RMSE ( Root Mean Square Error)**\n",
    "\n",
    "It explains how close the actual data points are to the model’s predicted values. It measures standard deviation of the residuals.\n",
    "![](https://lh3.googleusercontent.com/-8eChny0k16s/XPti5W5xGPI/AAAAAAAAdXc/I4_GPbOSooM8WlUchiPjcreeQNiosiYRgCK8BGAs/s0/2019-06-08.png)\n",
    "\n",
    "In the formula above, yi is the actual values of dependent variable and yi-hat is the predicted values, n - sample size.\n",
    "\n",
    "- Important Point\n",
    "\n",
    "RMSE has the same unit as dependent variable. For example, dependent variable is sales which is measured in dollars. Let's say RMSE of this sales model comes out 21. We can say it is 21 dollars.\n",
    "\n",
    "- **What is good RMSE score?**\n",
    "\n",
    "There is no thumb rule regarding good or bad RMSE score. It is because it is dependent on your dependent variable. If your target variable lies between 0 to 100. RMSE of 0.5 can be considered as good but same 0.5 RMSE can be considered as a poor score if dependent variable ranges from 0 to 10. Hence there is so such good or bad RMSE by simply looking at the value.\n",
    "\n",
    "Lower values of RMSE indicate better fit. RMSE is a good measure of how accurately the model predicts the response, and is the most important criterion for fit if the main purpose of the model is prediction.\n",
    "The RMSE for your training and your test sets should be very similar if you have built a good model. If the RMSE for the test set is much higher than that of the training set, it is likely that you've badly over fit the data, i.e. you've created a model that works well in sample, but has little predictive value when tested out of sample\n",
    "\n",
    "***RMSE vs MAE***\n",
    "\n",
    "RMSE amplifies and severely punishes large errors as compared to mean absolute error (MAE).\n",
    "\n",
    "\n",
    "**R-Squared vs RMSE**\n",
    "\n",
    "R-squared is in proportion and has no units associated to target variable whereas RMSE has units associated to target variable. Hence, R-squared is a relative measure of fit, RMSE is an absolute measure of fit.\n",
    "\n",
    "The code below covers the assumption testing and evaluation of model performance :\n",
    "\n",
    "1. Data Preparation\n",
    "2. Testing of Multicollinearity\n",
    "3. Treatment of Multicollinearity\n",
    "4. Checking for Autocorrelation\n",
    "5. Checking for Outliers\n",
    "6. Checking for Heteroscedasticity\n",
    "7. Testing of Normality of Residuals\n",
    "8. Forward, Backward and Stepwise Selection\n",
    "9. Calculating RMSE\n",
    "10. Box Cox Transformation of Dependent Variable\n",
    "12. Calculating R-Squared and Adj, R-squared manually\n",
    "13. Calculating Residual and Predicted values\n",
    "14. Calculating Standardized Coefficient"
   ]
  },
  {
   "cell_type": "code",
   "execution_count": 1,
   "metadata": {},
   "outputs": [
    {
     "name": "stderr",
     "output_type": "stream",
     "text": [
      "Warning message:\n",
      "\"package 'car' was built under R version 3.5.3\"Loading required package: carData\n",
      "Warning message:\n",
      "\"package 'carData' was built under R version 3.5.2\"Warning message:\n",
      "\"package 'caret' was built under R version 3.5.3\"Loading required package: lattice\n",
      "Loading required package: ggplot2\n",
      "Warning message:\n",
      "\"package 'ggplot2' was built under R version 3.5.2\"Warning message:\n",
      "\"package 'corrplot' was built under R version 3.5.3\"corrplot 0.84 loaded\n"
     ]
    }
   ],
   "source": [
    "# Load required packages\n",
    "#library(ggplot2)\n",
    "library(car)\n",
    "library(caret)\n",
    "library(corrplot)"
   ]
  },
  {
   "cell_type": "markdown",
   "metadata": {},
   "source": [
    "Make sure the above listed packages are already installed and loaded into R. If they are not already installed, you need to install it by using the command install.packages(\"package-name\")\n",
    "\n",
    "**Read Data**\n",
    "\n",
    "We will use mtcars dataset from cars package. This data was extracted from the Motor Trend US magazine, and comprises fuel consumption and 10 aspects of automobile design and performance for 32 automobiles."
   ]
  },
  {
   "cell_type": "code",
   "execution_count": 2,
   "metadata": {},
   "outputs": [
    {
     "name": "stdout",
     "output_type": "stream",
     "text": [
      "'data.frame':\t32 obs. of  11 variables:\n",
      " $ mpg : num  21 21 22.8 21.4 18.7 18.1 14.3 24.4 22.8 19.2 ...\n",
      " $ cyl : num  6 6 4 6 8 6 8 4 4 6 ...\n",
      " $ disp: num  160 160 108 258 360 ...\n",
      " $ hp  : num  110 110 93 110 175 105 245 62 95 123 ...\n",
      " $ drat: num  3.9 3.9 3.85 3.08 3.15 2.76 3.21 3.69 3.92 3.92 ...\n",
      " $ wt  : num  2.62 2.88 2.32 3.21 3.44 ...\n",
      " $ qsec: num  16.5 17 18.6 19.4 17 ...\n",
      " $ vs  : num  0 0 1 1 0 1 0 1 1 1 ...\n",
      " $ am  : num  1 1 1 0 0 0 0 0 0 0 ...\n",
      " $ gear: num  4 4 4 3 3 3 3 4 4 4 ...\n",
      " $ carb: num  4 4 1 1 2 1 4 2 2 4 ...\n"
     ]
    }
   ],
   "source": [
    "#Loading data\n",
    "data(mtcars)  \n",
    "\n",
    "# Looking at variables\n",
    "str(mtcars)"
   ]
  },
  {
   "cell_type": "markdown",
   "metadata": {},
   "source": [
    "Variable description of the above variables are listed below against their respective variable names.\n",
    "\n",
    "|Variable|\tDescription|\n",
    "|----------|-----------|\n",
    "|mpg|\tMiles/(US) gallon|\n",
    "|cyl|\tNumber of cylinders|\n",
    "|disp|\tDisplacement (cu.in.)|\n",
    "|hp|\tGross horsepower|\n",
    "|drat|\tRear axle ratio|\n",
    "|wt|\tWeight (1000 lbs)|\n",
    "|qsec|\t1/4 mile time|\n",
    "|vs|\tV/S|\n",
    "|am|\tTransmission (0 = automatic, 1 = manual)|\n",
    "|gear|\tNumber of forward gears|\n",
    "|carb|\tNumber of carburetors|\n"
   ]
  },
  {
   "cell_type": "markdown",
   "metadata": {},
   "source": [
    "#### Summarize Data\n",
    "\n",
    "In this dataset, mpg is a target variable. See first 6 rows of data by using head() function."
   ]
  },
  {
   "cell_type": "code",
   "execution_count": 3,
   "metadata": {},
   "outputs": [
    {
     "data": {
      "text/html": [
       "<table>\n",
       "<thead><tr><th></th><th scope=col>mpg</th><th scope=col>cyl</th><th scope=col>disp</th><th scope=col>hp</th><th scope=col>drat</th><th scope=col>wt</th><th scope=col>qsec</th><th scope=col>vs</th><th scope=col>am</th><th scope=col>gear</th><th scope=col>carb</th></tr></thead>\n",
       "<tbody>\n",
       "\t<tr><th scope=row>Mazda RX4</th><td>21.0 </td><td>6    </td><td>160  </td><td>110  </td><td>3.90 </td><td>2.620</td><td>16.46</td><td>0    </td><td>1    </td><td>4    </td><td>4    </td></tr>\n",
       "\t<tr><th scope=row>Mazda RX4 Wag</th><td>21.0 </td><td>6    </td><td>160  </td><td>110  </td><td>3.90 </td><td>2.875</td><td>17.02</td><td>0    </td><td>1    </td><td>4    </td><td>4    </td></tr>\n",
       "\t<tr><th scope=row>Datsun 710</th><td>22.8 </td><td>4    </td><td>108  </td><td> 93  </td><td>3.85 </td><td>2.320</td><td>18.61</td><td>1    </td><td>1    </td><td>4    </td><td>1    </td></tr>\n",
       "\t<tr><th scope=row>Hornet 4 Drive</th><td>21.4 </td><td>6    </td><td>258  </td><td>110  </td><td>3.08 </td><td>3.215</td><td>19.44</td><td>1    </td><td>0    </td><td>3    </td><td>1    </td></tr>\n",
       "\t<tr><th scope=row>Hornet Sportabout</th><td>18.7 </td><td>8    </td><td>360  </td><td>175  </td><td>3.15 </td><td>3.440</td><td>17.02</td><td>0    </td><td>0    </td><td>3    </td><td>2    </td></tr>\n",
       "\t<tr><th scope=row>Valiant</th><td>18.1 </td><td>6    </td><td>225  </td><td>105  </td><td>2.76 </td><td>3.460</td><td>20.22</td><td>1    </td><td>0    </td><td>3    </td><td>1    </td></tr>\n",
       "</tbody>\n",
       "</table>\n"
      ],
      "text/latex": [
       "\\begin{tabular}{r|lllllllllll}\n",
       "  & mpg & cyl & disp & hp & drat & wt & qsec & vs & am & gear & carb\\\\\n",
       "\\hline\n",
       "\tMazda RX4 & 21.0  & 6     & 160   & 110   & 3.90  & 2.620 & 16.46 & 0     & 1     & 4     & 4    \\\\\n",
       "\tMazda RX4 Wag & 21.0  & 6     & 160   & 110   & 3.90  & 2.875 & 17.02 & 0     & 1     & 4     & 4    \\\\\n",
       "\tDatsun 710 & 22.8  & 4     & 108   &  93   & 3.85  & 2.320 & 18.61 & 1     & 1     & 4     & 1    \\\\\n",
       "\tHornet 4 Drive & 21.4  & 6     & 258   & 110   & 3.08  & 3.215 & 19.44 & 1     & 0     & 3     & 1    \\\\\n",
       "\tHornet Sportabout & 18.7  & 8     & 360   & 175   & 3.15  & 3.440 & 17.02 & 0     & 0     & 3     & 2    \\\\\n",
       "\tValiant & 18.1  & 6     & 225   & 105   & 2.76  & 3.460 & 20.22 & 1     & 0     & 3     & 1    \\\\\n",
       "\\end{tabular}\n"
      ],
      "text/markdown": [
       "\n",
       "| <!--/--> | mpg | cyl | disp | hp | drat | wt | qsec | vs | am | gear | carb | \n",
       "|---|---|---|---|---|---|\n",
       "| Mazda RX4 | 21.0  | 6     | 160   | 110   | 3.90  | 2.620 | 16.46 | 0     | 1     | 4     | 4     | \n",
       "| Mazda RX4 Wag | 21.0  | 6     | 160   | 110   | 3.90  | 2.875 | 17.02 | 0     | 1     | 4     | 4     | \n",
       "| Datsun 710 | 22.8  | 4     | 108   |  93   | 3.85  | 2.320 | 18.61 | 1     | 1     | 4     | 1     | \n",
       "| Hornet 4 Drive | 21.4  | 6     | 258   | 110   | 3.08  | 3.215 | 19.44 | 1     | 0     | 3     | 1     | \n",
       "| Hornet Sportabout | 18.7  | 8     | 360   | 175   | 3.15  | 3.440 | 17.02 | 0     | 0     | 3     | 2     | \n",
       "| Valiant | 18.1  | 6     | 225   | 105   | 2.76  | 3.460 | 20.22 | 1     | 0     | 3     | 1     | \n",
       "\n",
       "\n"
      ],
      "text/plain": [
       "                  mpg  cyl disp hp  drat wt    qsec  vs am gear carb\n",
       "Mazda RX4         21.0 6   160  110 3.90 2.620 16.46 0  1  4    4   \n",
       "Mazda RX4 Wag     21.0 6   160  110 3.90 2.875 17.02 0  1  4    4   \n",
       "Datsun 710        22.8 4   108   93 3.85 2.320 18.61 1  1  4    1   \n",
       "Hornet 4 Drive    21.4 6   258  110 3.08 3.215 19.44 1  0  3    1   \n",
       "Hornet Sportabout 18.7 8   360  175 3.15 3.440 17.02 0  0  3    2   \n",
       "Valiant           18.1 6   225  105 2.76 3.460 20.22 1  0  3    1   "
      ]
     },
     "metadata": {},
     "output_type": "display_data"
    }
   ],
   "source": [
    "head(mtcars)"
   ]
  },
  {
   "cell_type": "code",
   "execution_count": 4,
   "metadata": {},
   "outputs": [
    {
     "data": {
      "text/plain": [
       "      mpg             cyl             disp             hp       \n",
       " Min.   :10.40   Min.   :4.000   Min.   : 71.1   Min.   : 52.0  \n",
       " 1st Qu.:15.43   1st Qu.:4.000   1st Qu.:120.8   1st Qu.: 96.5  \n",
       " Median :19.20   Median :6.000   Median :196.3   Median :123.0  \n",
       " Mean   :20.09   Mean   :6.188   Mean   :230.7   Mean   :146.7  \n",
       " 3rd Qu.:22.80   3rd Qu.:8.000   3rd Qu.:326.0   3rd Qu.:180.0  \n",
       " Max.   :33.90   Max.   :8.000   Max.   :472.0   Max.   :335.0  \n",
       "      drat             wt             qsec             vs        \n",
       " Min.   :2.760   Min.   :1.513   Min.   :14.50   Min.   :0.0000  \n",
       " 1st Qu.:3.080   1st Qu.:2.581   1st Qu.:16.89   1st Qu.:0.0000  \n",
       " Median :3.695   Median :3.325   Median :17.71   Median :0.0000  \n",
       " Mean   :3.597   Mean   :3.217   Mean   :17.85   Mean   :0.4375  \n",
       " 3rd Qu.:3.920   3rd Qu.:3.610   3rd Qu.:18.90   3rd Qu.:1.0000  \n",
       " Max.   :4.930   Max.   :5.424   Max.   :22.90   Max.   :1.0000  \n",
       "       am              gear            carb      \n",
       " Min.   :0.0000   Min.   :3.000   Min.   :1.000  \n",
       " 1st Qu.:0.0000   1st Qu.:3.000   1st Qu.:2.000  \n",
       " Median :0.0000   Median :4.000   Median :2.000  \n",
       " Mean   :0.4062   Mean   :3.688   Mean   :2.812  \n",
       " 3rd Qu.:1.0000   3rd Qu.:4.000   3rd Qu.:4.000  \n",
       " Max.   :1.0000   Max.   :5.000   Max.   :8.000  "
      ]
     },
     "metadata": {},
     "output_type": "display_data"
    }
   ],
   "source": [
    "# To see the distribution of the variables, submit summary() function.\n",
    "summary(mtcars)"
   ]
  },
  {
   "cell_type": "markdown",
   "metadata": {},
   "source": [
    "### Data Preparation\n",
    "\n",
    "Make sure categorical variables are stored as factors. In the program below, we are converting variables to factors."
   ]
  },
  {
   "cell_type": "code",
   "execution_count": 5,
   "metadata": {},
   "outputs": [],
   "source": [
    "mtcars$am   = as.factor(mtcars$am)\n",
    "mtcars$cyl  = as.factor(mtcars$cyl)\n",
    "mtcars$vs   = as.factor(mtcars$vs)\n",
    "mtcars$gear = as.factor(mtcars$gear)"
   ]
  },
  {
   "cell_type": "markdown",
   "metadata": {},
   "source": [
    "#### Identifying and Correcting Collinearity\n",
    "\n",
    "In this step, we are identifying independent variables which are highly correlated to each other. Since mpg is a dependent variable, we are removing it in the code below."
   ]
  },
  {
   "cell_type": "code",
   "execution_count": 6,
   "metadata": {},
   "outputs": [
    {
     "name": "stdout",
     "output_type": "stream",
     "text": [
      "           disp         hp        drat         wt        qsec       carb\n",
      "disp  1.0000000  0.7909486 -0.71021393  0.8879799 -0.43369788  0.3949769\n",
      "hp    0.7909486  1.0000000 -0.44875912  0.6587479 -0.70822339  0.7498125\n",
      "drat -0.7102139 -0.4487591  1.00000000 -0.7124406  0.09120476 -0.0907898\n",
      "wt    0.8879799  0.6587479 -0.71244065  1.0000000 -0.17471588  0.4276059\n",
      "qsec -0.4336979 -0.7082234  0.09120476 -0.1747159  1.00000000 -0.6562492\n",
      "carb  0.3949769  0.7498125 -0.09078980  0.4276059 -0.65624923  1.0000000\n"
     ]
    }
   ],
   "source": [
    "#Dropping dependent variable for calculating Multicollinearity\n",
    "mtcars_a = subset(mtcars, select = -c(mpg))\n",
    "\n",
    "#Identifying numeric variables\n",
    "numericData <- mtcars_a[sapply(mtcars_a, is.numeric)]\n",
    "\n",
    "#Calculating Correlation\n",
    "descrCor <- cor(numericData)\n",
    "\n",
    "# Print correlation matrix and look at max correlation\n",
    "print(descrCor)"
   ]
  },
  {
   "cell_type": "code",
   "execution_count": 7,
   "metadata": {},
   "outputs": [
    {
     "data": {
      "image/png": "[encoded data removed]",
      "text/plain": [
       "Plot with title \"\""
      ]
     },
     "metadata": {},
     "output_type": "display_data"
    }
   ],
   "source": [
    "# Visualize Correlation Matrix\n",
    "corrplot(descrCor, order = \"FPC\", method = \"color\", type = \"lower\", tl.cex = 0.7, tl.col = rgb(0, 0, 0))"
   ]
  },
  {
   "cell_type": "code",
   "execution_count": 8,
   "metadata": {},
   "outputs": [
    {
     "data": {
      "text/html": [
       "<ol class=list-inline>\n",
       "\t<li>'hp'</li>\n",
       "\t<li>'disp'</li>\n",
       "\t<li>'wt'</li>\n",
       "</ol>\n"
      ],
      "text/latex": [
       "\\begin{enumerate*}\n",
       "\\item 'hp'\n",
       "\\item 'disp'\n",
       "\\item 'wt'\n",
       "\\end{enumerate*}\n"
      ],
      "text/markdown": [
       "1. 'hp'\n",
       "2. 'disp'\n",
       "3. 'wt'\n",
       "\n",
       "\n"
      ],
      "text/plain": [
       "[1] \"hp\"   \"disp\" \"wt\"  "
      ]
     },
     "metadata": {},
     "output_type": "display_data"
    }
   ],
   "source": [
    "# Checking Variables that are highly correlated\n",
    "highlyCorrelated = findCorrelation(descrCor, cutoff=0.7)\n",
    "\n",
    "#Identifying Variable Names of Highly Correlated Variables\n",
    "highlyCorCol = colnames(numericData)[highlyCorrelated]\n",
    "\n",
    "#Print highly correlated attributes\n",
    "highlyCorCol"
   ]
  },
  {
   "cell_type": "code",
   "execution_count": 9,
   "metadata": {},
   "outputs": [
    {
     "data": {
      "text/html": [
       "<ol class=list-inline>\n",
       "\t<li>32</li>\n",
       "\t<li>8</li>\n",
       "</ol>\n"
      ],
      "text/latex": [
       "\\begin{enumerate*}\n",
       "\\item 32\n",
       "\\item 8\n",
       "\\end{enumerate*}\n"
      ],
      "text/markdown": [
       "1. 32\n",
       "2. 8\n",
       "\n",
       "\n"
      ],
      "text/plain": [
       "[1] 32  8"
      ]
     },
     "metadata": {},
     "output_type": "display_data"
    }
   ],
   "source": [
    "#Remove highly correlated variables and create a new dataset\n",
    "dat3 = mtcars[, -which(colnames(mtcars) %in% highlyCorCol)]\n",
    "dim(dat3)"
   ]
  },
  {
   "cell_type": "markdown",
   "metadata": {},
   "source": [
    "There are three variables \"**hp**\"   \"**disp**\" \"**wt**\" that found to be highly correlated. We have removed them to avoid collinearity. Now, we have 7 independent variables and 1 dependent variable.\n",
    "\n",
    "# Developing Regression Model"
   ]
  },
  {
   "cell_type": "code",
   "execution_count": 10,
   "metadata": {},
   "outputs": [
    {
     "data": {
      "text/plain": [
       "\n",
       "Call:\n",
       "lm(formula = mpg ~ ., data = dat3)\n",
       "\n",
       "Residuals:\n",
       "    Min      1Q  Median      3Q     Max \n",
       "-5.4850 -1.3058  0.1856  1.5278  5.2439 \n",
       "\n",
       "Coefficients:\n",
       "            Estimate Std. Error t value Pr(>|t|)  \n",
       "(Intercept)  16.7823    19.6148   0.856    0.401  \n",
       "cyl6         -1.8025     2.6085  -0.691    0.497  \n",
       "cyl8         -3.5873     4.0324  -0.890    0.383  \n",
       "drat          1.4283     2.1997   0.649    0.523  \n",
       "qsec          0.1003     0.7729   0.130    0.898  \n",
       "vs1           0.7068     2.3291   0.303    0.764  \n",
       "am1           3.2396     2.4702   1.311    0.203  \n",
       "gear4         1.3869     3.0466   0.455    0.653  \n",
       "gear5         2.3776     3.4334   0.692    0.496  \n",
       "carb         -1.4836     0.6305  -2.353    0.028 *\n",
       "---\n",
       "Signif. codes:  0 '***' 0.001 '**' 0.01 '*' 0.05 '.' 0.1 ' ' 1\n",
       "\n",
       "Residual standard error: 3.004 on 22 degrees of freedom\n",
       "Multiple R-squared:  0.8237,\tAdjusted R-squared:  0.7516 \n",
       "F-statistic: 11.42 on 9 and 22 DF,  p-value: 1.991e-06\n"
      ]
     },
     "metadata": {},
     "output_type": "display_data"
    },
    {
     "data": {
      "text/html": [
       "<table>\n",
       "<thead><tr><th></th><th scope=col>Estimate</th><th scope=col>Std. Error</th><th scope=col>t value</th><th scope=col>Pr(&gt;|t|)</th></tr></thead>\n",
       "<tbody>\n",
       "\t<tr><th scope=row>(Intercept)</th><td>16.7822594</td><td>19.6148264</td><td> 0.8555905</td><td>0.40144689</td></tr>\n",
       "\t<tr><th scope=row>cyl6</th><td>-1.8024956</td><td> 2.6085500</td><td>-0.6909952</td><td>0.49679558</td></tr>\n",
       "\t<tr><th scope=row>cyl8</th><td>-3.5873481</td><td> 4.0324017</td><td>-0.8896306</td><td>0.38328938</td></tr>\n",
       "\t<tr><th scope=row>drat</th><td> 1.4282634</td><td> 2.1997411</td><td> 0.6492871</td><td>0.52287435</td></tr>\n",
       "\t<tr><th scope=row>qsec</th><td> 0.1003392</td><td> 0.7729431</td><td> 0.1298144</td><td>0.89789286</td></tr>\n",
       "\t<tr><th scope=row>vs1</th><td> 0.7068328</td><td> 2.3290789</td><td> 0.3034817</td><td>0.76437427</td></tr>\n",
       "\t<tr><th scope=row>am1</th><td> 3.2396239</td><td> 2.4701702</td><td> 1.3114983</td><td>0.20321249</td></tr>\n",
       "\t<tr><th scope=row>gear4</th><td> 1.3869458</td><td> 3.0465665</td><td> 0.4552488</td><td>0.65339127</td></tr>\n",
       "\t<tr><th scope=row>gear5</th><td> 2.3775702</td><td> 3.4333710</td><td> 0.6924886</td><td>0.49587575</td></tr>\n",
       "\t<tr><th scope=row>carb</th><td>-1.4835832</td><td> 0.6305272</td><td>-2.3529248</td><td>0.02797981</td></tr>\n",
       "</tbody>\n",
       "</table>\n"
      ],
      "text/latex": [
       "\\begin{tabular}{r|llll}\n",
       "  & Estimate & Std. Error & t value & Pr(>\\textbar{}t\\textbar{})\\\\\n",
       "\\hline\n",
       "\t(Intercept) & 16.7822594 & 19.6148264 &  0.8555905 & 0.40144689\\\\\n",
       "\tcyl6 & -1.8024956 &  2.6085500 & -0.6909952 & 0.49679558\\\\\n",
       "\tcyl8 & -3.5873481 &  4.0324017 & -0.8896306 & 0.38328938\\\\\n",
       "\tdrat &  1.4282634 &  2.1997411 &  0.6492871 & 0.52287435\\\\\n",
       "\tqsec &  0.1003392 &  0.7729431 &  0.1298144 & 0.89789286\\\\\n",
       "\tvs1 &  0.7068328 &  2.3290789 &  0.3034817 & 0.76437427\\\\\n",
       "\tam1 &  3.2396239 &  2.4701702 &  1.3114983 & 0.20321249\\\\\n",
       "\tgear4 &  1.3869458 &  3.0465665 &  0.4552488 & 0.65339127\\\\\n",
       "\tgear5 &  2.3775702 &  3.4333710 &  0.6924886 & 0.49587575\\\\\n",
       "\tcarb & -1.4835832 &  0.6305272 & -2.3529248 & 0.02797981\\\\\n",
       "\\end{tabular}\n"
      ],
      "text/markdown": [
       "\n",
       "| <!--/--> | Estimate | Std. Error | t value | Pr(>|t|) | \n",
       "|---|---|---|---|---|---|---|---|---|---|\n",
       "| (Intercept) | 16.7822594 | 19.6148264 |  0.8555905 | 0.40144689 | \n",
       "| cyl6 | -1.8024956 |  2.6085500 | -0.6909952 | 0.49679558 | \n",
       "| cyl8 | -3.5873481 |  4.0324017 | -0.8896306 | 0.38328938 | \n",
       "| drat |  1.4282634 |  2.1997411 |  0.6492871 | 0.52287435 | \n",
       "| qsec |  0.1003392 |  0.7729431 |  0.1298144 | 0.89789286 | \n",
       "| vs1 |  0.7068328 |  2.3290789 |  0.3034817 | 0.76437427 | \n",
       "| am1 |  3.2396239 |  2.4701702 |  1.3114983 | 0.20321249 | \n",
       "| gear4 |  1.3869458 |  3.0465665 |  0.4552488 | 0.65339127 | \n",
       "| gear5 |  2.3775702 |  3.4333710 |  0.6924886 | 0.49587575 | \n",
       "| carb | -1.4835832 |  0.6305272 | -2.3529248 | 0.02797981 | \n",
       "\n",
       "\n"
      ],
      "text/plain": [
       "            Estimate   Std. Error t value    Pr(>|t|)  \n",
       "(Intercept) 16.7822594 19.6148264  0.8555905 0.40144689\n",
       "cyl6        -1.8024956  2.6085500 -0.6909952 0.49679558\n",
       "cyl8        -3.5873481  4.0324017 -0.8896306 0.38328938\n",
       "drat         1.4282634  2.1997411  0.6492871 0.52287435\n",
       "qsec         0.1003392  0.7729431  0.1298144 0.89789286\n",
       "vs1          0.7068328  2.3290789  0.3034817 0.76437427\n",
       "am1          3.2396239  2.4701702  1.3114983 0.20321249\n",
       "gear4        1.3869458  3.0465665  0.4552488 0.65339127\n",
       "gear5        2.3775702  3.4333710  0.6924886 0.49587575\n",
       "carb        -1.4835832  0.6305272 -2.3529248 0.02797981"
      ]
     },
     "metadata": {},
     "output_type": "display_data"
    },
    {
     "data": {
      "text/html": [
       "<table>\n",
       "<thead><tr><th></th><th scope=col>Df</th><th scope=col>Sum Sq</th><th scope=col>Mean Sq</th><th scope=col>F value</th><th scope=col>Pr(&gt;F)</th></tr></thead>\n",
       "<tbody>\n",
       "\t<tr><th scope=row>cyl</th><td> 2          </td><td>824.784590  </td><td>412.392295  </td><td>45.7032913  </td><td>1.464295e-08</td></tr>\n",
       "\t<tr><th scope=row>drat</th><td> 1          </td><td> 14.452415  </td><td> 14.452415  </td><td> 1.6016859  </td><td>2.189041e-01</td></tr>\n",
       "\t<tr><th scope=row>qsec</th><td> 1          </td><td>  2.830521  </td><td>  2.830521  </td><td> 0.3136919  </td><td>5.810824e-01</td></tr>\n",
       "\t<tr><th scope=row>vs</th><td> 1          </td><td>  1.021688  </td><td>  1.021688  </td><td> 0.1132283  </td><td>7.396868e-01</td></tr>\n",
       "\t<tr><th scope=row>am</th><td> 1          </td><td> 26.346340  </td><td> 26.346340  </td><td> 2.9198277  </td><td>1.015693e-01</td></tr>\n",
       "\t<tr><th scope=row>gear</th><td> 2          </td><td>  8.145077  </td><td>  4.072539  </td><td> 0.4513382  </td><td>6.425410e-01</td></tr>\n",
       "\t<tr><th scope=row>carb</th><td> 1          </td><td> 49.955022  </td><td> 49.955022  </td><td> 5.5362551  </td><td>2.797981e-02</td></tr>\n",
       "\t<tr><th scope=row>Residuals</th><td>22          </td><td>198.511535  </td><td>  9.023252  </td><td>        NA  </td><td>          NA</td></tr>\n",
       "</tbody>\n",
       "</table>\n"
      ],
      "text/latex": [
       "\\begin{tabular}{r|lllll}\n",
       "  & Df & Sum Sq & Mean Sq & F value & Pr(>F)\\\\\n",
       "\\hline\n",
       "\tcyl &  2           & 824.784590   & 412.392295   & 45.7032913   & 1.464295e-08\\\\\n",
       "\tdrat &  1           &  14.452415   &  14.452415   &  1.6016859   & 2.189041e-01\\\\\n",
       "\tqsec &  1           &   2.830521   &   2.830521   &  0.3136919   & 5.810824e-01\\\\\n",
       "\tvs &  1           &   1.021688   &   1.021688   &  0.1132283   & 7.396868e-01\\\\\n",
       "\tam &  1           &  26.346340   &  26.346340   &  2.9198277   & 1.015693e-01\\\\\n",
       "\tgear &  2           &   8.145077   &   4.072539   &  0.4513382   & 6.425410e-01\\\\\n",
       "\tcarb &  1           &  49.955022   &  49.955022   &  5.5362551   & 2.797981e-02\\\\\n",
       "\tResiduals & 22           & 198.511535   &   9.023252   &         NA   &           NA\\\\\n",
       "\\end{tabular}\n"
      ],
      "text/markdown": [
       "\n",
       "| <!--/--> | Df | Sum Sq | Mean Sq | F value | Pr(>F) | \n",
       "|---|---|---|---|---|---|---|---|\n",
       "| cyl |  2           | 824.784590   | 412.392295   | 45.7032913   | 1.464295e-08 | \n",
       "| drat |  1           |  14.452415   |  14.452415   |  1.6016859   | 2.189041e-01 | \n",
       "| qsec |  1           |   2.830521   |   2.830521   |  0.3136919   | 5.810824e-01 | \n",
       "| vs |  1           |   1.021688   |   1.021688   |  0.1132283   | 7.396868e-01 | \n",
       "| am |  1           |  26.346340   |  26.346340   |  2.9198277   | 1.015693e-01 | \n",
       "| gear |  2           |   8.145077   |   4.072539   |  0.4513382   | 6.425410e-01 | \n",
       "| carb |  1           |  49.955022   |  49.955022   |  5.5362551   | 2.797981e-02 | \n",
       "| Residuals | 22           | 198.511535   |   9.023252   |         NA   |           NA | \n",
       "\n",
       "\n"
      ],
      "text/plain": [
       "          Df Sum Sq     Mean Sq    F value    Pr(>F)      \n",
       "cyl        2 824.784590 412.392295 45.7032913 1.464295e-08\n",
       "drat       1  14.452415  14.452415  1.6016859 2.189041e-01\n",
       "qsec       1   2.830521   2.830521  0.3136919 5.810824e-01\n",
       "vs         1   1.021688   1.021688  0.1132283 7.396868e-01\n",
       "am         1  26.346340  26.346340  2.9198277 1.015693e-01\n",
       "gear       2   8.145077   4.072539  0.4513382 6.425410e-01\n",
       "carb       1  49.955022  49.955022  5.5362551 2.797981e-02\n",
       "Residuals 22 198.511535   9.023252         NA           NA"
      ]
     },
     "metadata": {},
     "output_type": "display_data"
    },
    {
     "data": {
      "image/png": "[encoded data removed]",
      "text/plain": [
       "Plot with title \"\""
      ]
     },
     "metadata": {},
     "output_type": "display_data"
    }
   ],
   "source": [
    "# At this step, we are building multiple linear regression model.\n",
    "\n",
    "#Build Linear Regression Model\n",
    "fit = lm(mpg ~ ., data=dat3)\n",
    "\n",
    "#Check Model Performance\n",
    "summary(fit)\n",
    "\n",
    "#Extracting Coefficients\n",
    "summary(fit)$coeff\n",
    "anova(fit)\n",
    "\n",
    "par(mfrow=c(2,2))\n",
    "plot(fit)"
   ]
  },
  {
   "cell_type": "markdown",
   "metadata": {},
   "source": [
    "#### See the coefficients of Linear Regression Model and ANOVA table\n",
    "\n",
    "Linear regression model tests the null hypothesis that the estimate is equal to zero. An independent variable that has a p-value less than 0.05 means we are rejecting the null hypothesis at 5% level of significance. It means the coefficient of that variable is not equal to 0. A large p-value implies variable is meaningless in order to predict target variable."
   ]
  },
  {
   "cell_type": "code",
   "execution_count": 11,
   "metadata": {},
   "outputs": [
    {
     "data": {
      "text/plain": [
       "\n",
       "Call:\n",
       "lm(formula = mpg ~ ., data = dat3)\n",
       "\n",
       "Residuals:\n",
       "    Min      1Q  Median      3Q     Max \n",
       "-5.4850 -1.3058  0.1856  1.5278  5.2439 \n",
       "\n",
       "Coefficients:\n",
       "            Estimate Std. Error t value Pr(>|t|)  \n",
       "(Intercept)  16.7823    19.6148   0.856    0.401  \n",
       "cyl6         -1.8025     2.6085  -0.691    0.497  \n",
       "cyl8         -3.5873     4.0324  -0.890    0.383  \n",
       "drat          1.4283     2.1997   0.649    0.523  \n",
       "qsec          0.1003     0.7729   0.130    0.898  \n",
       "vs1           0.7068     2.3291   0.303    0.764  \n",
       "am1           3.2396     2.4702   1.311    0.203  \n",
       "gear4         1.3869     3.0466   0.455    0.653  \n",
       "gear5         2.3776     3.4334   0.692    0.496  \n",
       "carb         -1.4836     0.6305  -2.353    0.028 *\n",
       "---\n",
       "Signif. codes:  0 '***' 0.001 '**' 0.01 '*' 0.05 '.' 0.1 ' ' 1\n",
       "\n",
       "Residual standard error: 3.004 on 22 degrees of freedom\n",
       "Multiple R-squared:  0.8237,\tAdjusted R-squared:  0.7516 \n",
       "F-statistic: 11.42 on 9 and 22 DF,  p-value: 1.991e-06\n"
      ]
     },
     "metadata": {},
     "output_type": "display_data"
    }
   ],
   "source": [
    "summary(fit)"
   ]
  },
  {
   "cell_type": "code",
   "execution_count": 12,
   "metadata": {},
   "outputs": [
    {
     "data": {
      "text/html": [
       "<table>\n",
       "<thead><tr><th></th><th scope=col>Df</th><th scope=col>Sum Sq</th><th scope=col>Mean Sq</th><th scope=col>F value</th><th scope=col>Pr(&gt;F)</th></tr></thead>\n",
       "<tbody>\n",
       "\t<tr><th scope=row>cyl</th><td> 2          </td><td>824.784590  </td><td>412.392295  </td><td>45.7032913  </td><td>1.464295e-08</td></tr>\n",
       "\t<tr><th scope=row>drat</th><td> 1          </td><td> 14.452415  </td><td> 14.452415  </td><td> 1.6016859  </td><td>2.189041e-01</td></tr>\n",
       "\t<tr><th scope=row>qsec</th><td> 1          </td><td>  2.830521  </td><td>  2.830521  </td><td> 0.3136919  </td><td>5.810824e-01</td></tr>\n",
       "\t<tr><th scope=row>vs</th><td> 1          </td><td>  1.021688  </td><td>  1.021688  </td><td> 0.1132283  </td><td>7.396868e-01</td></tr>\n",
       "\t<tr><th scope=row>am</th><td> 1          </td><td> 26.346340  </td><td> 26.346340  </td><td> 2.9198277  </td><td>1.015693e-01</td></tr>\n",
       "\t<tr><th scope=row>gear</th><td> 2          </td><td>  8.145077  </td><td>  4.072539  </td><td> 0.4513382  </td><td>6.425410e-01</td></tr>\n",
       "\t<tr><th scope=row>carb</th><td> 1          </td><td> 49.955022  </td><td> 49.955022  </td><td> 5.5362551  </td><td>2.797981e-02</td></tr>\n",
       "\t<tr><th scope=row>Residuals</th><td>22          </td><td>198.511535  </td><td>  9.023252  </td><td>        NA  </td><td>          NA</td></tr>\n",
       "</tbody>\n",
       "</table>\n"
      ],
      "text/latex": [
       "\\begin{tabular}{r|lllll}\n",
       "  & Df & Sum Sq & Mean Sq & F value & Pr(>F)\\\\\n",
       "\\hline\n",
       "\tcyl &  2           & 824.784590   & 412.392295   & 45.7032913   & 1.464295e-08\\\\\n",
       "\tdrat &  1           &  14.452415   &  14.452415   &  1.6016859   & 2.189041e-01\\\\\n",
       "\tqsec &  1           &   2.830521   &   2.830521   &  0.3136919   & 5.810824e-01\\\\\n",
       "\tvs &  1           &   1.021688   &   1.021688   &  0.1132283   & 7.396868e-01\\\\\n",
       "\tam &  1           &  26.346340   &  26.346340   &  2.9198277   & 1.015693e-01\\\\\n",
       "\tgear &  2           &   8.145077   &   4.072539   &  0.4513382   & 6.425410e-01\\\\\n",
       "\tcarb &  1           &  49.955022   &  49.955022   &  5.5362551   & 2.797981e-02\\\\\n",
       "\tResiduals & 22           & 198.511535   &   9.023252   &         NA   &           NA\\\\\n",
       "\\end{tabular}\n"
      ],
      "text/markdown": [
       "\n",
       "| <!--/--> | Df | Sum Sq | Mean Sq | F value | Pr(>F) | \n",
       "|---|---|---|---|---|---|---|---|\n",
       "| cyl |  2           | 824.784590   | 412.392295   | 45.7032913   | 1.464295e-08 | \n",
       "| drat |  1           |  14.452415   |  14.452415   |  1.6016859   | 2.189041e-01 | \n",
       "| qsec |  1           |   2.830521   |   2.830521   |  0.3136919   | 5.810824e-01 | \n",
       "| vs |  1           |   1.021688   |   1.021688   |  0.1132283   | 7.396868e-01 | \n",
       "| am |  1           |  26.346340   |  26.346340   |  2.9198277   | 1.015693e-01 | \n",
       "| gear |  2           |   8.145077   |   4.072539   |  0.4513382   | 6.425410e-01 | \n",
       "| carb |  1           |  49.955022   |  49.955022   |  5.5362551   | 2.797981e-02 | \n",
       "| Residuals | 22           | 198.511535   |   9.023252   |         NA   |           NA | \n",
       "\n",
       "\n"
      ],
      "text/plain": [
       "          Df Sum Sq     Mean Sq    F value    Pr(>F)      \n",
       "cyl        2 824.784590 412.392295 45.7032913 1.464295e-08\n",
       "drat       1  14.452415  14.452415  1.6016859 2.189041e-01\n",
       "qsec       1   2.830521   2.830521  0.3136919 5.810824e-01\n",
       "vs         1   1.021688   1.021688  0.1132283 7.396868e-01\n",
       "am         1  26.346340  26.346340  2.9198277 1.015693e-01\n",
       "gear       2   8.145077   4.072539  0.4513382 6.425410e-01\n",
       "carb       1  49.955022  49.955022  5.5362551 2.797981e-02\n",
       "Residuals 22 198.511535   9.023252         NA           NA"
      ]
     },
     "metadata": {},
     "output_type": "display_data"
    }
   ],
   "source": [
    "anova(fit)"
   ]
  },
  {
   "cell_type": "markdown",
   "metadata": {},
   "source": [
    "#### The critical plots of linear regression model are shown below -\n",
    "\n",
    "1. Residuals vs Fitted\n",
    "2. Normal Q-Q\n",
    "3. Scale Location\n",
    "4. Residuals vs Leverage\n",
    "\n",
    "### Calculating Model Performance Metrics"
   ]
  },
  {
   "cell_type": "code",
   "execution_count": 13,
   "metadata": {},
   "outputs": [
    {
     "data": {
      "text/html": [
       "0.823709399670459"
      ],
      "text/latex": [
       "0.823709399670459"
      ],
      "text/markdown": [
       "0.823709399670459"
      ],
      "text/plain": [
       "[1] 0.8237094"
      ]
     },
     "metadata": {},
     "output_type": "display_data"
    },
    {
     "data": {
      "text/html": [
       "0.751590517717465"
      ],
      "text/latex": [
       "0.751590517717465"
      ],
      "text/markdown": [
       "0.751590517717465"
      ],
      "text/plain": [
       "[1] 0.7515905"
      ]
     },
     "metadata": {},
     "output_type": "display_data"
    },
    {
     "data": {
      "text/html": [
       "171.215627881175"
      ],
      "text/latex": [
       "171.215627881175"
      ],
      "text/markdown": [
       "171.215627881175"
      ],
      "text/plain": [
       "[1] 171.2156"
      ]
     },
     "metadata": {},
     "output_type": "display_data"
    },
    {
     "data": {
      "text/html": [
       "187.338722811972"
      ],
      "text/latex": [
       "187.338722811972"
      ],
      "text/markdown": [
       "187.338722811972"
      ],
      "text/plain": [
       "[1] 187.3387"
      ]
     },
     "metadata": {},
     "output_type": "display_data"
    }
   ],
   "source": [
    "#Extracting R-squared value\n",
    "summary(fit)$r.squared\n",
    "\n",
    "\n",
    "#Extracting Adjusted R-squared value\n",
    "summary(fit)$adj.r.squared\n",
    "\n",
    "\n",
    "AIC(fit)\n",
    "\n",
    "\n",
    "BIC(fit)\n",
    "\n"
   ]
  },
  {
   "cell_type": "markdown",
   "metadata": {},
   "source": [
    "Higher R-Squared and Adjusted R-Squared value, better the model. Whereas, lower the AIC and BIC score, better the model.\n",
    "\n",
    "***Understanding AIC and BIC***\n",
    "\n",
    "AIC and BIC are measures of goodness of fit. They penalize complex models. In other words, it penalize the higher number of estimated parameters. It believes in a concept that a model with fewer parameters is to be preferred to one with more. In general, BIC penalizes models more for free parameters than does AIC.  Both criteria depend on the maximized value of the likelihood function L for the estimated model.\n",
    "\n",
    "\n",
    "AIC value roughly equals the number of parameters minus the likelihood of the overall model. Suppose you have two models, the model with the lower AIC and BIC score is better.\n",
    "\n",
    "**Variable Selection Methods**\n",
    "\n",
    "There are three variable selection methods - \n",
    "    1. Forward, \n",
    "    2. Backward, \n",
    "    3. Stepwise.\n",
    "1. Starts with a single variable, then adds variables one at a time based on AIC ('Forward')\n",
    "2. Starts with all variables, iteratively removing those of low importance based on AIC ('Backward')\n",
    "3. Run in both directions ('Stepwise')\n"
   ]
  },
  {
   "cell_type": "code",
   "execution_count": 14,
   "metadata": {},
   "outputs": [
    {
     "name": "stderr",
     "output_type": "stream",
     "text": [
      "Warning message:\n",
      "\"package 'MASS' was built under R version 3.5.3\""
     ]
    },
    {
     "name": "stdout",
     "output_type": "stream",
     "text": [
      "Start:  AIC=78.4\n",
      "mpg ~ cyl + drat + qsec + vs + am + gear + carb\n",
      "\n",
      "       Df Sum of Sq    RSS    AIC\n",
      "- gear  2     4.421 202.93 75.108\n",
      "- cyl   2     7.199 205.71 75.543\n",
      "- qsec  1     0.152 198.66 76.428\n",
      "- vs    1     0.831 199.34 76.537\n",
      "- drat  1     3.804 202.32 77.011\n",
      "<none>              198.51 78.404\n",
      "- am    1    15.520 214.03 78.812\n",
      "- carb  1    49.955 248.47 83.586\n",
      "\n",
      "Step:  AIC=75.11\n",
      "mpg ~ cyl + drat + qsec + vs + am + carb\n",
      "\n",
      "       Df Sum of Sq    RSS    AIC\n",
      "- qsec  1     0.003 202.94 73.109\n",
      "- cyl   2    14.048 216.98 73.250\n",
      "- vs    1     1.468 204.40 73.339\n",
      "- drat  1     7.373 210.31 74.250\n",
      "<none>              202.93 75.108\n",
      "- am    1    29.982 232.91 77.518\n",
      "+ gear  2     4.421 198.51 78.404\n",
      "- carb  1    53.679 256.61 80.618\n",
      "\n",
      "Step:  AIC=73.11\n",
      "mpg ~ cyl + drat + vs + am + carb\n",
      "\n",
      "       Df Sum of Sq    RSS    AIC\n",
      "- vs    1     1.648 204.58 71.368\n",
      "- cyl   2    18.384 221.32 71.884\n",
      "- drat  1     7.539 210.47 72.276\n",
      "<none>              202.94 73.109\n",
      "+ qsec  1     0.003 202.93 75.108\n",
      "+ gear  2     4.272 198.66 76.428\n",
      "- am    1    43.979 246.91 77.386\n",
      "- carb  1    55.781 258.72 78.880\n",
      "\n",
      "Step:  AIC=71.37\n",
      "mpg ~ cyl + drat + am + carb\n",
      "\n",
      "       Df Sum of Sq    RSS    AIC\n",
      "- drat  1     7.852 212.44 70.573\n",
      "<none>              204.58 71.368\n",
      "+ vs    1     1.648 202.94 73.109\n",
      "+ qsec  1     0.184 204.40 73.339\n",
      "+ gear  2     4.891 199.69 74.593\n",
      "- cyl   2    55.393 259.98 75.035\n",
      "- am    1    44.665 249.25 75.687\n",
      "- carb  1    59.739 264.32 77.566\n",
      "\n",
      "Step:  AIC=70.57\n",
      "mpg ~ cyl + am + carb\n",
      "\n",
      "       Df Sum of Sq    RSS    AIC\n",
      "<none>              212.44 70.573\n",
      "+ drat  1     7.852 204.58 71.368\n",
      "+ vs    1     1.961 210.48 72.276\n",
      "+ qsec  1     0.000 212.44 72.573\n",
      "+ gear  2     9.318 203.12 73.138\n",
      "- carb  1    52.059 264.50 75.587\n",
      "- am    1    77.137 289.57 78.486\n",
      "- cyl   2   121.242 333.68 81.022\n"
     ]
    },
    {
     "data": {
      "text/plain": [
       "\n",
       "Call:\n",
       "lm(formula = mpg ~ cyl + am + carb, data = dat3)\n",
       "\n",
       "Residuals:\n",
       "    Min      1Q  Median      3Q     Max \n",
       "-5.9074 -1.1723  0.2538  1.4851  5.4728 \n",
       "\n",
       "Coefficients:\n",
       "            Estimate Std. Error t value Pr(>|t|)    \n",
       "(Intercept)  25.3203     1.2238  20.690  < 2e-16 ***\n",
       "cyl6         -3.5494     1.7296  -2.052 0.049959 *  \n",
       "cyl8         -6.9046     1.8078  -3.819 0.000712 ***\n",
       "am1           4.2268     1.3499   3.131 0.004156 ** \n",
       "carb         -1.1199     0.4354  -2.572 0.015923 *  \n",
       "---\n",
       "Signif. codes:  0 '***' 0.001 '**' 0.01 '*' 0.05 '.' 0.1 ' ' 1\n",
       "\n",
       "Residual standard error: 2.805 on 27 degrees of freedom\n",
       "Multiple R-squared:  0.8113,\tAdjusted R-squared:  0.7834 \n",
       "F-statistic: 29.03 on 4 and 27 DF,  p-value: 1.991e-09\n"
      ]
     },
     "metadata": {},
     "output_type": "display_data"
    },
    {
     "name": "stdout",
     "output_type": "stream",
     "text": [
      "Start:  AIC=78.4\n",
      "mpg ~ cyl + drat + qsec + vs + am + gear + carb\n",
      "\n",
      "       Df Sum of Sq    RSS    AIC\n",
      "- gear  2     4.421 202.93 75.108\n",
      "- cyl   2     7.199 205.71 75.543\n",
      "- qsec  1     0.152 198.66 76.428\n",
      "- vs    1     0.831 199.34 76.537\n",
      "- drat  1     3.804 202.32 77.011\n",
      "<none>              198.51 78.404\n",
      "- am    1    15.520 214.03 78.812\n",
      "- carb  1    49.955 248.47 83.586\n",
      "\n",
      "Step:  AIC=75.11\n",
      "mpg ~ cyl + drat + qsec + vs + am + carb\n",
      "\n",
      "       Df Sum of Sq    RSS    AIC\n",
      "- qsec  1     0.003 202.94 73.109\n",
      "- cyl   2    14.048 216.98 73.250\n",
      "- vs    1     1.468 204.40 73.339\n",
      "- drat  1     7.373 210.31 74.250\n",
      "<none>              202.93 75.108\n",
      "- am    1    29.982 232.91 77.518\n",
      "- carb  1    53.679 256.61 80.618\n",
      "\n",
      "Step:  AIC=73.11\n",
      "mpg ~ cyl + drat + vs + am + carb\n",
      "\n",
      "       Df Sum of Sq    RSS    AIC\n",
      "- vs    1     1.648 204.58 71.368\n",
      "- cyl   2    18.384 221.32 71.884\n",
      "- drat  1     7.539 210.47 72.276\n",
      "<none>              202.94 73.109\n",
      "- am    1    43.979 246.91 77.386\n",
      "- carb  1    55.781 258.72 78.880\n",
      "\n",
      "Step:  AIC=71.37\n",
      "mpg ~ cyl + drat + am + carb\n",
      "\n",
      "       Df Sum of Sq    RSS    AIC\n",
      "- drat  1     7.852 212.44 70.573\n",
      "<none>              204.58 71.368\n",
      "- cyl   2    55.393 259.98 75.035\n",
      "- am    1    44.665 249.25 75.687\n",
      "- carb  1    59.739 264.32 77.566\n",
      "\n",
      "Step:  AIC=70.57\n",
      "mpg ~ cyl + am + carb\n",
      "\n",
      "       Df Sum of Sq    RSS    AIC\n",
      "<none>              212.44 70.573\n",
      "- carb  1    52.059 264.50 75.587\n",
      "- am    1    77.137 289.57 78.486\n",
      "- cyl   2   121.242 333.68 81.022\n"
     ]
    },
    {
     "data": {
      "text/plain": [
       "\n",
       "Call:\n",
       "lm(formula = mpg ~ cyl + am + carb, data = dat3)\n",
       "\n",
       "Residuals:\n",
       "    Min      1Q  Median      3Q     Max \n",
       "-5.9074 -1.1723  0.2538  1.4851  5.4728 \n",
       "\n",
       "Coefficients:\n",
       "            Estimate Std. Error t value Pr(>|t|)    \n",
       "(Intercept)  25.3203     1.2238  20.690  < 2e-16 ***\n",
       "cyl6         -3.5494     1.7296  -2.052 0.049959 *  \n",
       "cyl8         -6.9046     1.8078  -3.819 0.000712 ***\n",
       "am1           4.2268     1.3499   3.131 0.004156 ** \n",
       "carb         -1.1199     0.4354  -2.572 0.015923 *  \n",
       "---\n",
       "Signif. codes:  0 '***' 0.001 '**' 0.01 '*' 0.05 '.' 0.1 ' ' 1\n",
       "\n",
       "Residual standard error: 2.805 on 27 degrees of freedom\n",
       "Multiple R-squared:  0.8113,\tAdjusted R-squared:  0.7834 \n",
       "F-statistic: 29.03 on 4 and 27 DF,  p-value: 1.991e-09\n"
      ]
     },
     "metadata": {},
     "output_type": "display_data"
    },
    {
     "name": "stdout",
     "output_type": "stream",
     "text": [
      "Start:  AIC=78.4\n",
      "mpg ~ cyl + drat + qsec + vs + am + gear + carb\n",
      "\n"
     ]
    },
    {
     "data": {
      "text/plain": [
       "\n",
       "Call:\n",
       "lm(formula = mpg ~ cyl + drat + qsec + vs + am + gear + carb, \n",
       "    data = dat3)\n",
       "\n",
       "Residuals:\n",
       "    Min      1Q  Median      3Q     Max \n",
       "-5.4850 -1.3058  0.1856  1.5278  5.2439 \n",
       "\n",
       "Coefficients:\n",
       "            Estimate Std. Error t value Pr(>|t|)  \n",
       "(Intercept)  16.7823    19.6148   0.856    0.401  \n",
       "cyl6         -1.8025     2.6085  -0.691    0.497  \n",
       "cyl8         -3.5873     4.0324  -0.890    0.383  \n",
       "drat          1.4283     2.1997   0.649    0.523  \n",
       "qsec          0.1003     0.7729   0.130    0.898  \n",
       "vs1           0.7068     2.3291   0.303    0.764  \n",
       "am1           3.2396     2.4702   1.311    0.203  \n",
       "gear4         1.3869     3.0466   0.455    0.653  \n",
       "gear5         2.3776     3.4334   0.692    0.496  \n",
       "carb         -1.4836     0.6305  -2.353    0.028 *\n",
       "---\n",
       "Signif. codes:  0 '***' 0.001 '**' 0.01 '*' 0.05 '.' 0.1 ' ' 1\n",
       "\n",
       "Residual standard error: 3.004 on 22 degrees of freedom\n",
       "Multiple R-squared:  0.8237,\tAdjusted R-squared:  0.7516 \n",
       "F-statistic: 11.42 on 9 and 22 DF,  p-value: 1.991e-06\n"
      ]
     },
     "metadata": {},
     "output_type": "display_data"
    },
    {
     "name": "stdout",
     "output_type": "stream",
     "text": [
      "Start:  AIC=93.06\n",
      "mpg ~ cyl + drat + qsec + vs + am + gear + carb\n",
      "\n",
      "       Df Sum of Sq    RSS    AIC\n",
      "- gear  2     4.421 202.93 86.834\n",
      "- cyl   2     7.199 205.71 87.269\n",
      "- qsec  1     0.152 198.66 89.620\n",
      "- vs    1     0.831 199.34 89.729\n",
      "- drat  1     3.804 202.32 90.203\n",
      "- am    1    15.520 214.03 92.004\n",
      "<none>              198.51 93.061\n",
      "- carb  1    49.955 248.47 96.778\n",
      "\n",
      "Step:  AIC=86.83\n",
      "mpg ~ cyl + drat + qsec + vs + am + carb\n",
      "\n",
      "       Df Sum of Sq    RSS    AIC\n",
      "- cyl   2    14.048 216.98 82.045\n",
      "- qsec  1     0.003 202.94 83.369\n",
      "- vs    1     1.468 204.40 83.599\n",
      "- drat  1     7.373 210.31 84.511\n",
      "<none>              202.93 86.834\n",
      "- am    1    29.982 232.91 87.778\n",
      "- carb  1    53.679 256.61 90.879\n",
      "\n",
      "Step:  AIC=82.04\n",
      "mpg ~ drat + qsec + vs + am + carb\n",
      "\n",
      "       Df Sum of Sq    RSS    AIC\n",
      "- qsec  1     4.339 221.32 79.213\n",
      "- vs    1    11.003 227.98 80.162\n",
      "- drat  1    23.474 240.46 81.866\n",
      "<none>              216.98 82.045\n",
      "- carb  1    84.997 301.98 89.156\n",
      "- am    1    88.283 305.26 89.503\n",
      "\n",
      "Step:  AIC=79.21\n",
      "mpg ~ drat + vs + am + carb\n",
      "\n",
      "       Df Sum of Sq    RSS    AIC\n",
      "- drat  1    24.331 245.65 79.085\n",
      "<none>              221.32 79.213\n",
      "- vs    1    38.657 259.98 80.898\n",
      "- am    1    87.852 309.17 86.444\n",
      "- carb  1   118.670 339.99 89.485\n",
      "\n",
      "Step:  AIC=79.08\n",
      "mpg ~ vs + am + carb\n",
      "\n",
      "       Df Sum of Sq    RSS     AIC\n",
      "<none>              245.65  79.085\n",
      "- vs    1     88.03 333.68  85.419\n",
      "- carb  1    107.83 353.49  87.265\n",
      "- am    1    334.16 579.81 103.100\n"
     ]
    },
    {
     "data": {
      "text/plain": [
       "\n",
       "Call:\n",
       "lm(formula = mpg ~ vs + am + carb, data = dat3)\n",
       "\n",
       "Residuals:\n",
       "    Min      1Q  Median      3Q     Max \n",
       "-6.2803 -1.2308  0.4078  2.0519  4.8197 \n",
       "\n",
       "Coefficients:\n",
       "            Estimate Std. Error t value Pr(>|t|)    \n",
       "(Intercept)  19.5174     1.6091  12.130 1.16e-12 ***\n",
       "vs1           4.1957     1.3246   3.168  0.00370 ** \n",
       "am1           6.7980     1.1015   6.172 1.15e-06 ***\n",
       "carb         -1.4308     0.4081  -3.506  0.00155 ** \n",
       "---\n",
       "Signif. codes:  0 '***' 0.001 '**' 0.01 '*' 0.05 '.' 0.1 ' ' 1\n",
       "\n",
       "Residual standard error: 2.962 on 28 degrees of freedom\n",
       "Multiple R-squared:  0.7818,\tAdjusted R-squared:  0.7585 \n",
       "F-statistic: 33.45 on 3 and 28 DF,  p-value: 2.138e-09\n"
      ]
     },
     "metadata": {},
     "output_type": "display_data"
    }
   ],
   "source": [
    "#Stepwise Selection based on AIC\n",
    "library(MASS)\n",
    "step <- stepAIC(fit, direction=\"both\")\n",
    "summary(step)\n",
    "\n",
    "\n",
    "#Backward Selection based on AIC\n",
    "step <- stepAIC(fit, direction=\"backward\")\n",
    "summary(step)\n",
    "\n",
    "\n",
    "#Forward Selection based on AIC\n",
    "step <- stepAIC(fit, direction=\"forward\")\n",
    "summary(step)\n",
    "\n",
    "\n",
    "#Stepwise Selection with BIC\n",
    "n = dim(dat3)[1]\n",
    "stepBIC = stepAIC(fit,k=log(n))\n",
    "summary(stepBIC)"
   ]
  },
  {
   "cell_type": "markdown",
   "metadata": {},
   "source": [
    "Look at the estimates above after performing stepwise selection based on BIC. Variables have been reduced but Adjusted R-Squared remains same (very slightly improved). AIC and BIC scores also went down which indicates a better model.\n",
    "AIC(stepBIC)\n",
    "BIC(stepBIC)\n",
    "\n",
    "**Calculate Standardized Coefficients**\n",
    "\n",
    "Standardized Coefficients helps to rank predictors based on absolute value of standardized estimates. Higher the value, more important the variable."
   ]
  },
  {
   "cell_type": "code",
   "execution_count": null,
   "metadata": {},
   "outputs": [],
   "source": [
    "#Standardised coefficients\n",
    "library(QuantPsyc)\n",
    "lm.beta(stepBIC)\n",
    "\n",
    "\n",
    "#R Function : Manual Calculation of Standardised coefficients\n",
    "stdz.coff <- function (regmodel)\n",
    "{ b <- summary(regmodel)$coef[-1,1]\n",
    "sx <- sapply(regmodel$model[-1], sd)\n",
    "sy <- sapply(regmodel$model[1], sd)\n",
    "beta <- b * sx / sy\n",
    "return(beta)\n",
    "}\n",
    "\n",
    "std.Coeff = data.frame(Standardized.Coeff = stdz.coff(stepBIC))\n",
    "std.Coeff = cbind(Variable = row.names(std.Coeff), std.Coeff)\n",
    "row.names(std.Coeff) = NULL"
   ]
  },
  {
   "cell_type": "markdown",
   "metadata": {},
   "source": [
    "#### Calculating Variance Inflation Factor (VIF)\n",
    "Variance inflation factor measure how much the variance of the coefficients are inflated as compared to when independent variables are not highly non-correlated. It should be less than 5.\n",
    "vif(stepBIC)\n",
    "#### Testing Other Assumptions"
   ]
  },
  {
   "cell_type": "code",
   "execution_count": 17,
   "metadata": {},
   "outputs": [
    {
     "data": {
      "text/plain": [
       " lag Autocorrelation D-W Statistic p-value\n",
       "   1      0.04332769      1.753676     0.3\n",
       " Alternative hypothesis: rho != 0"
      ]
     },
     "metadata": {},
     "output_type": "display_data"
    },
    {
     "data": {
      "text/plain": [
       "\n",
       "\tShapiro-Wilk normality test\n",
       "\n",
       "data:  res\n",
       "W = 0.946, p-value = 0.1109\n"
      ]
     },
     "metadata": {},
     "output_type": "display_data"
    },
    {
     "data": {
      "text/plain": [
       "Non-constant Variance Score Test \n",
       "Variance formula: ~ fitted.values \n",
       "Chisquare = 8.624326, Df = 1, p = 0.003317"
      ]
     },
     "metadata": {},
     "output_type": "display_data"
    },
    {
     "data": {
      "text/plain": [
       "No Studentized residuals with Bonferroni p < 0.05\n",
       "Largest |rstudent|:\n",
       "            rstudent unadjusted p-value Bonferroni p\n",
       "Datsun 710 -2.463916             0.0204      0.65281"
      ]
     },
     "metadata": {},
     "output_type": "display_data"
    },
    {
     "name": "stderr",
     "output_type": "stream",
     "text": [
      "Installing package into 'C:/Users/Kumar/Documents/R/win-library/3.5'\n",
      "(as 'lib' is unspecified)\n"
     ]
    },
    {
     "ename": "ERROR",
     "evalue": "Error in contrib.url(repos, \"source\"): trying to use CRAN without setting a mirror\n",
     "output_type": "error",
     "traceback": [
      "Error in contrib.url(repos, \"source\"): trying to use CRAN without setting a mirror\nTraceback:\n",
      "1. install.packages(\"relaimpo\")",
      "2. contrib.url(repos, \"source\")",
      "3. stop(\"trying to use CRAN without setting a mirror\")"
     ]
    }
   ],
   "source": [
    "#Autocorrelation Test\n",
    "durbinWatsonTest(stepBIC)\n",
    "\n",
    "#Normality Of Residuals (Should be > 0.05)\n",
    "res=residuals(stepBIC,type=\"pearson\")\n",
    "shapiro.test(res)\n",
    "\n",
    "#Testing for heteroscedasticity (Should be > 0.05)\n",
    "ncvTest(stepBIC)\n",
    "\n",
    "#Outliers – Bonferonni test\n",
    "outlierTest(stepBIC)\n",
    "\n",
    "#See Residuals\n",
    "resid = residuals(stepBIC)\n",
    "\n",
    "#Relative Importance\n",
    "install.packages(\"relaimpo\")\n",
    "library(relaimpo)\n",
    "calc.relimp(stepBIC)"
   ]
  },
  {
   "cell_type": "markdown",
   "metadata": {},
   "source": [
    "See Actual vs. Prediction"
   ]
  },
  {
   "cell_type": "code",
   "execution_count": 18,
   "metadata": {},
   "outputs": [
    {
     "name": "stdout",
     "output_type": "stream",
     "text": [
      "                   mpg     pred\n",
      "Mazda RX4         21.0 20.59222\n",
      "Mazda RX4 Wag     21.0 20.59222\n",
      "Datsun 710        22.8 29.08031\n",
      "Hornet 4 Drive    21.4 22.28235\n",
      "Hornet Sportabout 18.7 16.65583\n",
      "Valiant           18.1 22.28235\n"
     ]
    }
   ],
   "source": [
    "#See Predicted Value\n",
    "pred = predict(stepBIC,dat3)\n",
    "#See Actual vs. Predicted Value\n",
    "finaldata = cbind(mtcars,pred)\n",
    "print(head(subset(finaldata, select = c(mpg,pred))))"
   ]
  },
  {
   "cell_type": "markdown",
   "metadata": {},
   "source": [
    "### Other Useful Functions"
   ]
  },
  {
   "cell_type": "code",
   "execution_count": null,
   "metadata": {},
   "outputs": [],
   "source": [
    "#Calculating RMSE\n",
    "rmse = sqrt(mean((dat3$mpg - pred)^2))\n",
    "print(rmse)\n",
    "\n",
    "#Calculating Rsquared manually\n",
    "y = dat3[,c(\"mpg\")]\n",
    "R.squared = 1 - sum((y-pred)^2)/sum((y-mean(y))^2)\n",
    "print(R.squared)\n",
    "\n",
    "#Calculating Adj. Rsquared manually\n",
    "n = dim(dat3)[1]\n",
    "p = dim(summary(stepBIC)$coeff)[1] - 1\n",
    "adj.r.squared = 1 - (1 - R.squared) * ((n - 1)/(n-p-1))\n",
    "print(adj.r.squared)\n",
    "\n",
    "#Box Cox Transformation\n",
    "library(lmSupport)\n",
    "modelBoxCox(stepBIC)"
   ]
  },
  {
   "cell_type": "markdown",
   "metadata": {},
   "source": [
    "#### K-fold cross-validation\n",
    "\n",
    "In the program below, we are performing 5-fold cross-validation. In 5-fold cross-validation, data is randomly split into 5 equal sized samples. Out of the 5 samples, a single sample which is random 20% of data is retained as validation data , and the remaining 80% is used as training data. This process is then repeated 5 times, with each of the 5 samples used exactly once as validation data. Later we average out the results.\n"
   ]
  },
  {
   "cell_type": "code",
   "execution_count": 20,
   "metadata": {},
   "outputs": [
    {
     "name": "stderr",
     "output_type": "stream",
     "text": [
      "Warning message:\n",
      "\"package 'DAAG' was built under R version 3.5.3\"\n",
      "Attaching package: 'DAAG'\n",
      "\n",
      "The following object is masked from 'package:MASS':\n",
      "\n",
      "    hills\n",
      "\n",
      "The following object is masked from 'package:car':\n",
      "\n",
      "    vif\n",
      "\n"
     ]
    },
    {
     "name": "stdout",
     "output_type": "stream",
     "text": [
      "Analysis of Variance Table\n",
      "\n",
      "Response: mpg\n",
      "          Df Sum Sq Mean Sq F value  Pr(>F)    \n",
      "vs         1    497     497    56.6 3.4e-08 ***\n",
      "am         1    276     276    31.5 5.3e-06 ***\n",
      "carb       1    108     108    12.3  0.0016 ** \n",
      "Residuals 28    246       9                    \n",
      "---\n",
      "Signif. codes:  0 '***' 0.001 '**' 0.01 '*' 0.05 '.' 0.1 ' ' 1\n",
      "\n",
      "\n"
     ]
    },
    {
     "name": "stderr",
     "output_type": "stream",
     "text": [
      "Warning message in cv.lm(data = dat3, stepBIC, m = 5):\n",
      "\"\n",
      "\n",
      " As there is >1 explanatory variable, cross-validation\n",
      " predicted values for a fold are not a linear function\n",
      " of corresponding overall predicted values.  Lines that\n",
      " are shown for the different folds are approximate\n",
      "\""
     ]
    },
    {
     "name": "stdout",
     "output_type": "stream",
     "text": [
      "\n",
      "fold 1 \n",
      "Observations in test set: 6 \n",
      "            Hornet 4 Drive Merc 280C Cadillac Fleetwood Lincoln Continental\n",
      "Predicted           22.282     17.99              13.79               13.79\n",
      "cvpred              22.393     18.67              14.82               14.82\n",
      "mpg                 21.400     17.80              10.40               10.40\n",
      "CV residual         -0.993     -0.87              -4.42               -4.42\n",
      "            Toyota Corolla Dodge Challenger\n",
      "Predicted            29.08             16.7\n",
      "cvpred               28.11             17.3\n",
      "mpg                  33.90             15.5\n",
      "CV residual           5.79             -1.8\n",
      "\n",
      "Sum of squares = 77.6    Mean square = 12.9    n = 6 \n",
      "\n",
      "fold 2 \n",
      "Observations in test set: 7 \n",
      "            Merc 240D Merc 280 Chrysler Imperial Toyota Corona Camaro Z28\n",
      "Predicted       20.85    17.99             13.79        22.282     13.794\n",
      "cvpred          20.42    17.26             13.36        22.004     13.361\n",
      "mpg             24.40    19.20             14.70        21.500     13.300\n",
      "CV residual      3.98     1.94              1.34        -0.504     -0.061\n",
      "            Porsche 914-2 Ferrari Dino\n",
      "Predicted           23.45        17.73\n",
      "cvpred              23.34        17.02\n",
      "mpg                 26.00        19.70\n",
      "CV residual          2.66         2.68\n",
      "\n",
      "Sum of squares = 35.9    Mean square = 5.13    n = 7 \n",
      "\n",
      "fold 3 \n",
      "Observations in test set: 7 \n",
      "            Datsun 710 Hornet Sportabout Duster 360 Merc 230 Merc 450SL\n",
      "Predicted         29.1             16.66      13.79    20.85      15.23\n",
      "cvpred            31.0             15.79      12.75    21.06      14.27\n",
      "mpg               22.8             18.70      14.30    22.80      17.30\n",
      "CV residual       -8.2              2.91       1.55     1.74       3.03\n",
      "            Merc 450SLC Volvo 142E\n",
      "Predicted        15.225      27.65\n",
      "cvpred           14.271      29.48\n",
      "mpg              15.200      21.40\n",
      "CV residual       0.929      -8.08\n",
      "\n",
      "Sum of squares = 156    Mean square = 22.3    n = 7 \n",
      "\n",
      "fold 4 \n",
      "Observations in test set: 6 \n",
      "            Mazda RX4 Wag Valiant Fiat 128 Honda Civic Ford Pantera L\n",
      "Predicted          20.592   22.28    29.08       27.65          20.59\n",
      "cvpred             20.629   22.23    28.68       27.29          20.63\n",
      "mpg                21.000   18.10    32.40       30.40          15.80\n",
      "CV residual         0.371   -4.13     3.72        3.11          -4.83\n",
      "            Maserati Bora\n",
      "Predicted         14.8691\n",
      "cvpred            15.0869\n",
      "mpg               15.0000\n",
      "CV residual       -0.0869\n",
      "\n",
      "Sum of squares = 64    Mean square = 10.7    n = 6 \n",
      "\n",
      "fold 5 \n",
      "Observations in test set: 6 \n",
      "            Mazda RX4 Merc 450SE AMC Javelin Pontiac Firebird Fiat X1-9\n",
      "Predicted      20.592      15.23       16.66            16.66     29.08\n",
      "cvpred         20.397      15.02       16.43            16.43     28.97\n",
      "mpg            21.000      16.40       15.20            19.20     27.30\n",
      "CV residual     0.603       1.38       -1.23             2.77     -1.67\n",
      "            Lotus Europa\n",
      "Predicted          27.65\n",
      "cvpred             27.57\n",
      "mpg                30.40\n",
      "CV residual         2.83\n",
      "\n",
      "Sum of squares = 22.3    Mean square = 3.72    n = 6 \n",
      "\n",
      "Overall (Sum over all 6 folds) \n",
      "  ms \n",
      "11.1 \n"
     ]
    },
    {
     "data": {
      "image/png": "[encoded data removed]",
      "text/plain": [
       "Plot with title \"Small symbols show cross-validation predicted values\""
      ]
     },
     "metadata": {},
     "output_type": "display_data"
    }
   ],
   "source": [
    "library(DAAG)\n",
    "kfold = cv.lm(data=dat3, stepBIC, m=5)"
   ]
  },
  {
   "cell_type": "markdown",
   "metadata": {},
   "source": [
    "<h1 align=\"center\">Linear Regression Example</h1>"
   ]
  },
  {
   "cell_type": "markdown",
   "metadata": {},
   "source": [
    "Linear regression is used to predict the value of an outcome variable Y based on one or more input predictor variables X. The aim is to establish a linear relationship (a mathematical formula) between the predictor variable(s) and the response variable, so that, we can use this formula to estimate the value of the response Y, when only the predictors (Xs) values are known.\n",
    "\n",
    "Introduction\n",
    "The aim of linear regression is to model a continuous variable Y as a mathematical function of one or more X variable(s), so that we can use this regression model to predict the Y when only the X is known. This mathematical equation can be generalized as follows:\n",
    "\n",
    "\n",
    "Y = β1 + β2X + ϵ\n",
    "\n",
    "where, β1 is the intercept and β2 is the slope. Collectively, they are called regression coefficients. ϵ is the error term, the part of Y the regression model is unable to explain.\n",
    "\n",
    "**Example Problem**\n",
    "    \n",
    "For this analysis, we will use the cars dataset that comes with R by default. cars is a standard built-in dataset, that makes it convenient to demonstrate linear regression in a simple and easy to understand fashion. You can access this dataset simply by typing in cars in your R console. You will find that it consists of 50 observations(rows) and 2 variables (columns) – dist and speed. Lets print out the first six observations here.."
   ]
  },
  {
   "cell_type": "code",
   "execution_count": 21,
   "metadata": {},
   "outputs": [
    {
     "data": {
      "text/html": [
       "<table>\n",
       "<thead><tr><th scope=col>speed</th><th scope=col>dist</th></tr></thead>\n",
       "<tbody>\n",
       "\t<tr><td>4 </td><td> 2</td></tr>\n",
       "\t<tr><td>4 </td><td>10</td></tr>\n",
       "\t<tr><td>7 </td><td> 4</td></tr>\n",
       "\t<tr><td>7 </td><td>22</td></tr>\n",
       "\t<tr><td>8 </td><td>16</td></tr>\n",
       "\t<tr><td>9 </td><td>10</td></tr>\n",
       "</tbody>\n",
       "</table>\n"
      ],
      "text/latex": [
       "\\begin{tabular}{r|ll}\n",
       " speed & dist\\\\\n",
       "\\hline\n",
       "\t 4  &  2\\\\\n",
       "\t 4  & 10\\\\\n",
       "\t 7  &  4\\\\\n",
       "\t 7  & 22\\\\\n",
       "\t 8  & 16\\\\\n",
       "\t 9  & 10\\\\\n",
       "\\end{tabular}\n"
      ],
      "text/markdown": [
       "\n",
       "speed | dist | \n",
       "|---|---|---|---|---|---|\n",
       "| 4  |  2 | \n",
       "| 4  | 10 | \n",
       "| 7  |  4 | \n",
       "| 7  | 22 | \n",
       "| 8  | 16 | \n",
       "| 9  | 10 | \n",
       "\n",
       "\n"
      ],
      "text/plain": [
       "  speed dist\n",
       "1 4      2  \n",
       "2 4     10  \n",
       "3 7      4  \n",
       "4 7     22  \n",
       "5 8     16  \n",
       "6 9     10  "
      ]
     },
     "metadata": {},
     "output_type": "display_data"
    }
   ],
   "source": [
    "head(cars)  # display the first 6 observations"
   ]
  },
  {
   "cell_type": "markdown",
   "metadata": {},
   "source": [
    "Before we begin building the regression model, it is a good practice to analyze and understand the variables. The graphical analysis and correlation study below will help with this.\n",
    "\n",
    "**Graphical Analysis**\n",
    "\n",
    "The aim of this exercise is to build a simple regression model that we can use to predict Distance (dist) by establishing a statistically significant linear relationship with Speed (speed). But before jumping in to the syntax, lets try to understand these variables graphically. Typically, for each of the independent variables (predictors), the following plots are drawn to visualize the following behavior:\n",
    "\n",
    "**Scatter plot:** \n",
    "\n",
    "Visualize the linear relationship between the predictor and response\n",
    "Box plot: To spot any outlier observations in the variable. Having outliers in your predictor can drastically affect the predictions as they can easily affect the direction/slope of the line of best fit.\n",
    "Density plot: To see the distribution of the predictor variable. Ideally, a close to normal distribution (a bell shaped curve), without being skewed to the left or right is preferred. Let us see how to make each one of them.\n",
    "Scatter Plot\n",
    "Scatter plots can help visualize any linear relationships between the dependent (response) variable and independent (predictor) variables. Ideally, if you are having multiple predictor variables, a scatter plot is drawn for each one of them against the response, along with the line of best as seen below."
   ]
  },
  {
   "cell_type": "code",
   "execution_count": 22,
   "metadata": {},
   "outputs": [
    {
     "data": {
      "image/png": "[encoded data removed]",
      "text/plain": [
       "Plot with title \"Dist ~ Speed\""
      ]
     },
     "metadata": {},
     "output_type": "display_data"
    }
   ],
   "source": [
    "scatter.smooth(x=cars$speed, y=cars$dist, main=\"Dist ~ Speed\")  # scatterplot"
   ]
  },
  {
   "cell_type": "markdown",
   "metadata": {},
   "source": [
    "The scatter plot along with the smoothing line above suggests a linearly increasing relationship between the ‘dist’ and ‘speed’ variables. This is a good thing, because, one of the underlying assumptions in linear regression is that the relationship between the response and predictor variables is linear and additive.\n",
    "\n",
    "**BoxPlot – Check for outliers**\n",
    "\n",
    "Generally, any datapoint that lies outside the 1.5 * interquartile-range (1.5 * IQR) is considered an outlier, where, IQR is calculated as the distance between the 25th percentile and 75th percentile values for that variable."
   ]
  },
  {
   "cell_type": "code",
   "execution_count": 23,
   "metadata": {},
   "outputs": [
    {
     "data": {
      "image/png": "[encoded data removed]",
      "text/plain": [
       "Plot with title \"Distance\""
      ]
     },
     "metadata": {},
     "output_type": "display_data"
    }
   ],
   "source": [
    "par(mfrow=c(1, 2))  # divide graph area in 2 columns\n",
    "boxplot(cars$speed, main=\"Speed\", sub=paste(\"Outlier rows: \", boxplot.stats(cars$speed)$out))  # box plot for 'speed'\n",
    "boxplot(cars$dist, main=\"Distance\", sub=paste(\"Outlier rows: \", boxplot.stats(cars$dist)$out))  # box plot for 'distance'"
   ]
  },
  {
   "cell_type": "markdown",
   "metadata": {},
   "source": [
    "Density plot – Check if the response variable is close to normality"
   ]
  },
  {
   "cell_type": "code",
   "execution_count": 24,
   "metadata": {},
   "outputs": [
    {
     "name": "stderr",
     "output_type": "stream",
     "text": [
      "Warning message:\n",
      "\"package 'e1071' was built under R version 3.5.3\""
     ]
    },
    {
     "data": {
      "image/png": "[encoded data removed]",
      "text/plain": [
       "Plot with title \"Density Plot: Distance\""
      ]
     },
     "metadata": {},
     "output_type": "display_data"
    }
   ],
   "source": [
    "library(e1071)\n",
    "par(mfrow=c(1, 2))  # divide graph area in 2 columns\n",
    "plot(density(cars$speed), main=\"Density Plot: Speed\", ylab=\"Frequency\", sub=paste(\"Skewness:\", round(e1071::skewness(cars$speed), 2)))  # density plot for 'speed'\n",
    "polygon(density(cars$speed), col=\"red\")\n",
    "plot(density(cars$dist), main=\"Density Plot: Distance\", ylab=\"Frequency\", sub=paste(\"Skewness:\", round(e1071::skewness(cars$dist), 2)))  # density plot for 'dist'\n",
    "polygon(density(cars$dist), col=\"blue\")"
   ]
  },
  {
   "cell_type": "markdown",
   "metadata": {},
   "source": [
    "**Correlation**\n",
    "\n",
    "Correlation is a statistical measure that suggests the level of linear dependence between two variables, that occur in pair – just like what we have here in speed and dist. Correlation can take values between -1 to +1. If we observe for every instance where speed increases, the distance also increases along with it, then there is a high positive correlation between them and therefore the correlation between them will be closer to 1. The opposite is true for an inverse relationship, in which case, the correlation between the variables will be close to -1.\n",
    "\n",
    "A value closer to 0 suggests a weak relationship between the variables. A low correlation (-0.2 < x < 0.2) probably suggests that much of variation of the response variable (Y) is unexplained by the predictor (X), in which case, we should probably look for better explanatory variables."
   ]
  },
  {
   "cell_type": "code",
   "execution_count": 25,
   "metadata": {},
   "outputs": [
    {
     "data": {
      "text/html": [
       "0.80689490068921"
      ],
      "text/latex": [
       "0.80689490068921"
      ],
      "text/markdown": [
       "0.80689490068921"
      ],
      "text/plain": [
       "[1] 0.807"
      ]
     },
     "metadata": {},
     "output_type": "display_data"
    }
   ],
   "source": [
    "cor(cars$speed, cars$dist)  # calculate correlation between speed and distance "
   ]
  },
  {
   "cell_type": "markdown",
   "metadata": {},
   "source": [
    "**Build Linear Model**\n",
    "\n",
    "Now that we have seen the linear relationship pictorially in the scatter plot and by computing the correlation, lets see the syntax for building the linear model. The function used for building linear models is lm(). The lm() function takes in two main arguments, namely: 1. Formula 2. Data. The data is typically a data.frame and the formula is a object of class formula. But the most common convention is to write out the formula directly in place of the argument as written below."
   ]
  },
  {
   "cell_type": "code",
   "execution_count": 26,
   "metadata": {},
   "outputs": [
    {
     "name": "stdout",
     "output_type": "stream",
     "text": [
      "\n",
      "Call:\n",
      "lm(formula = dist ~ speed, data = cars)\n",
      "\n",
      "Coefficients:\n",
      "(Intercept)        speed  \n",
      "     -17.58         3.93  \n",
      "\n"
     ]
    }
   ],
   "source": [
    "linearMod <- lm(dist ~ speed, data=cars)  # build linear regression model on full data\n",
    "print(linearMod)"
   ]
  },
  {
   "cell_type": "markdown",
   "metadata": {},
   "source": [
    "Now that we have built the linear model, we also have established the relationship between the predictor and response in the form of a mathematical formula for Distance (dist) as a function for speed. For the above output, you can notice the ‘Coefficients’ part having two components: Intercept: -17.579, speed: 3.932 These are also called the beta coefficients. In other words, \n",
    "\n",
    "dist = Intercept + (β ∗ speed)\n",
    "=> dist = −17.579 + 3.932∗speed\n",
    "\n",
    "**Linear Regression Diagnostics**\n",
    "\n",
    "Now the linear model is built and we have a formula that we can use to predict the dist value if a corresponding speed is known. Is this enough to actually use this model? NO! Before using a regression model, you have to ensure that it is statistically significant. How do you ensure this? Lets begin by printing the summary statistics for linearMod."
   ]
  },
  {
   "cell_type": "code",
   "execution_count": 27,
   "metadata": {},
   "outputs": [
    {
     "data": {
      "text/plain": [
       "\n",
       "Call:\n",
       "lm(formula = dist ~ speed, data = cars)\n",
       "\n",
       "Residuals:\n",
       "   Min     1Q Median     3Q    Max \n",
       "-29.07  -9.53  -2.27   9.21  43.20 \n",
       "\n",
       "Coefficients:\n",
       "            Estimate Std. Error t value Pr(>|t|)    \n",
       "(Intercept)  -17.579      6.758   -2.60    0.012 *  \n",
       "speed          3.932      0.416    9.46  1.5e-12 ***\n",
       "---\n",
       "Signif. codes:  0 '***' 0.001 '**' 0.01 '*' 0.05 '.' 0.1 ' ' 1\n",
       "\n",
       "Residual standard error: 15.4 on 48 degrees of freedom\n",
       "Multiple R-squared:  0.651,\tAdjusted R-squared:  0.644 \n",
       "F-statistic: 89.6 on 1 and 48 DF,  p-value: 1.49e-12\n"
      ]
     },
     "metadata": {},
     "output_type": "display_data"
    }
   ],
   "source": [
    "summary(linearMod)  # model summary"
   ]
  },
  {
   "cell_type": "markdown",
   "metadata": {},
   "source": [
    "**The p Value: Checking for statistical significance**\n",
    "\n",
    "The summary statistics above tells us a number of things. One of them is the model p-Value (bottom last line) and the p-Value of individual predictor variables (extreme right column under ‘Coefficients’). The p-Values are very important because, We can consider a linear model to be statistically significant only when both these p-Values are less that the pre-determined statistical significance level, which is ideally 0.05. This is visually interpreted by the significance stars at the end of the row. The more the stars beside the variable’s p-Value, the more significant the variable.\n",
    "\n",
    "**Null and alternate hypothesis**\n",
    "\n",
    "When there is a p-value, there is a hull and alternative hypothesis associated with it. In Linear Regression, the Null Hypothesis is that the coefficients associated with the variables is equal to zero. The alternate hypothesis is that the coefficients are not equal to zero (i.e. there exists a relationship between the independent variable in question and the dependent variable).\n",
    "\n",
    "**t-value**\n",
    "\n",
    "We can interpret the t-value something like this. A larger t-value indicates that it is less likely that the coefficient is not equal to zero purely by chance. So, higher the t-value, the better.\n",
    "\n",
    "Pr(>|t|) or p-value is the probability that you get a t-value as high or higher than the observed value when the Null Hypothesis (the β coefficient is equal to zero or that there is no relationship) is true. So if the Pr(>|t|) is low, the coefficients are significant (significantly different from zero). If the Pr(>|t|) is high, the coefficients are not significant.\n",
    "\n",
    "What this means to us? when p Value is less than significance level (< 0.05), we can safely reject the null hypothesis that the co-efficient β of the predictor is zero. In our case, linearMod, both these p-Values are well below the 0.05 threshold, so we can conclude our model is indeed statistically significant.\n",
    "\n",
    "It is absolutely important for the model to be statistically significant before we can go ahead and use it to predict (or estimate) the dependent variable, otherwise, the confidence in predicted values from that model reduces and may be construed as an event of chance.\n",
    "\n",
    "**How to calculate the t Statistic and p-Values?**\n",
    "\n",
    "When the model co-efficients and standard error are known, the formula for calculating t Statistic and p-Value is as follows: \n",
    "\n",
    "**t−Statistic = {β−coefficient \\over Std.Error}**"
   ]
  },
  {
   "cell_type": "code",
   "execution_count": 28,
   "metadata": {},
   "outputs": [],
   "source": [
    "modelSummary <- summary(linearMod)  # capture model summary as an object\n",
    "modelCoeffs <- modelSummary$coefficients  # model coefficients\n",
    "beta.estimate <- modelCoeffs[\"speed\", \"Estimate\"]  # get beta estimate for speed\n",
    "std.error <- modelCoeffs[\"speed\", \"Std. Error\"]  # get std.error for speed\n",
    "t_value <- beta.estimate/std.error  # calc t statistic\n",
    "p_value <- 2*pt(-abs(t_value), df=nrow(cars)-ncol(cars))  # calc p Value\n",
    "f_statistic <- linearMod$fstatistic[1]  # fstatistic\n",
    "f <- summary(linearMod)$fstatistic  # parameters for model p-value calc\n",
    "model_p <- pf(f[1], f[2], f[3], lower=FALSE)"
   ]
  },
  {
   "cell_type": "code",
   "execution_count": 29,
   "metadata": {},
   "outputs": [
    {
     "name": "stdout",
     "output_type": "stream",
     "text": [
      "[1] 3.93\n"
     ]
    }
   ],
   "source": [
    "# print(modelSummary)\n",
    "# print(modelCoeffs)\n",
    "print(beta.estimate)"
   ]
  },
  {
   "cell_type": "code",
   "execution_count": 30,
   "metadata": {},
   "outputs": [
    {
     "data": {
      "text/html": [
       "0.415512776657122"
      ],
      "text/latex": [
       "0.415512776657122"
      ],
      "text/markdown": [
       "0.415512776657122"
      ],
      "text/plain": [
       "[1] 0.416"
      ]
     },
     "metadata": {},
     "output_type": "display_data"
    }
   ],
   "source": [
    "std.error"
   ]
  },
  {
   "cell_type": "code",
   "execution_count": 31,
   "metadata": {},
   "outputs": [
    {
     "data": {
      "text/html": [
       "9.46398999029837"
      ],
      "text/latex": [
       "9.46398999029837"
      ],
      "text/markdown": [
       "9.46398999029837"
      ],
      "text/plain": [
       "[1] 9.46"
      ]
     },
     "metadata": {},
     "output_type": "display_data"
    }
   ],
   "source": [
    "t_value"
   ]
  },
  {
   "cell_type": "code",
   "execution_count": 32,
   "metadata": {},
   "outputs": [
    {
     "data": {
      "text/html": [
       "1.48983649629509e-12"
      ],
      "text/latex": [
       "1.48983649629509e-12"
      ],
      "text/markdown": [
       "1.48983649629509e-12"
      ],
      "text/plain": [
       "[1] 1.49e-12"
      ]
     },
     "metadata": {},
     "output_type": "display_data"
    }
   ],
   "source": [
    "p_value"
   ]
  },
  {
   "cell_type": "code",
   "execution_count": 33,
   "metadata": {},
   "outputs": [
    {
     "data": {
      "text/plain": [
       "NULL"
      ]
     },
     "metadata": {},
     "output_type": "display_data"
    }
   ],
   "source": [
    "f_statistic"
   ]
  },
  {
   "cell_type": "code",
   "execution_count": 34,
   "metadata": {},
   "outputs": [
    {
     "data": {
      "text/html": [
       "<dl class=dl-horizontal>\n",
       "\t<dt>value</dt>\n",
       "\t\t<dd>89.5671065364678</dd>\n",
       "\t<dt>numdf</dt>\n",
       "\t\t<dd>1</dd>\n",
       "\t<dt>dendf</dt>\n",
       "\t\t<dd>48</dd>\n",
       "</dl>\n"
      ],
      "text/latex": [
       "\\begin{description*}\n",
       "\\item[value] 89.5671065364678\n",
       "\\item[numdf] 1\n",
       "\\item[dendf] 48\n",
       "\\end{description*}\n"
      ],
      "text/markdown": [
       "value\n",
       ":   89.5671065364678numdf\n",
       ":   1dendf\n",
       ":   48\n",
       "\n"
      ],
      "text/plain": [
       "value numdf dendf \n",
       " 89.6   1.0  48.0 "
      ]
     },
     "metadata": {},
     "output_type": "display_data"
    }
   ],
   "source": [
    "f"
   ]
  },
  {
   "cell_type": "code",
   "execution_count": 35,
   "metadata": {},
   "outputs": [
    {
     "data": {
      "text/html": [
       "<strong>value:</strong> 1.48983649629508e-12"
      ],
      "text/latex": [
       "\\textbf{value:} 1.48983649629508e-12"
      ],
      "text/markdown": [
       "**value:** 1.48983649629508e-12"
      ],
      "text/plain": [
       "   value \n",
       "1.49e-12 "
      ]
     },
     "metadata": {},
     "output_type": "display_data"
    }
   ],
   "source": [
    "model_p"
   ]
  },
  {
   "cell_type": "markdown",
   "metadata": {},
   "source": [
    "**R-Squared and Adj R-Squared**\n",
    "\n",
    "The actual information in a data is the total variation it contains, remember?. What R-Squared tells us is the proportion of variation in the dependent (response) variable that has been explained by this model.\n",
    "where, SSE is the sum of squared errors given by  and is the sum of squared total. Here,  is the fitted value for observation i and  is the mean of Y.\n",
    "\n",
    "We don’t necessarily discard a model based on a low R-Squared value. Its a better practice to look at the AIC and prediction accuracy on validation sample when deciding on the efficacy of a model.\n",
    "\n",
    "Now thats about R-Squared. What about adjusted R-Squared? As you add more X variables to your model, the R-Squared value of the new bigger model will always be greater than that of the smaller subset. This is because, since all the variables in the original model is also present, their contribution to explain the dependent variable will be present in the super-set as well, therefore, whatever new variable we add can only add (if not significantly) to the variation that was already explained. It is here, the adjusted R-Squared value comes to help. Adj R-Squared penalizes total value for the number of terms (read predictors) in your model. Therefore when comparing nested models, it is a good practice to look at adj-R-squared value over R-squared.\n",
    "\n"
   ]
  },
  {
   "cell_type": "code",
   "execution_count": 36,
   "metadata": {},
   "outputs": [
    {
     "data": {
      "text/html": [
       "419.156863027353"
      ],
      "text/latex": [
       "419.156863027353"
      ],
      "text/markdown": [
       "419.156863027353"
      ],
      "text/plain": [
       "[1] 419"
      ]
     },
     "metadata": {},
     "output_type": "display_data"
    },
    {
     "data": {
      "text/html": [
       "424.892932043638"
      ],
      "text/latex": [
       "424.892932043638"
      ],
      "text/markdown": [
       "424.892932043638"
      ],
      "text/plain": [
       "[1] 425"
      ]
     },
     "metadata": {},
     "output_type": "display_data"
    }
   ],
   "source": [
    "AIC(linearMod)  # AIC => 419.1569\n",
    "BIC(linearMod)  # BIC => 424.8929"
   ]
  },
  {
   "cell_type": "markdown",
   "metadata": {},
   "source": [
    "How to know if the model is best fit for your data?\n",
    "The most common metrics to look at while selecting the model are:\n",
    "\n",
    "|STATISTIC|CRITERION|\n",
    "|-------|----------|\n",
    "|R-Squared|Higher the better (> 0.70)|\n",
    "|Adj R-Squared|Higher the better|\n",
    "|F-Statistic|Higher the better|\n",
    "|Std. Error|Closer to zero the better|\n",
    "|t-statistic|Should be greater 1.96 for p-value to be less than 0.05|\n",
    "|AIC|Lower the better|\n",
    "|BIC|Lower the better|\n",
    "|Mallows cp|Should be close to the number of predictors in model|\n",
    "|MAPE(Mean absolute percentage error)|Lower the better|\n",
    "|MSE(Mean squared error)|Lower the better|\n",
    "|Min_Max Accuracy => mean(min(actual, predicted)/max(actual, predicted))|Higher the better|"
   ]
  },
  {
   "cell_type": "markdown",
   "metadata": {},
   "source": [
    "**Predicting Linear Models**\n",
    "\n",
    "So far we have seen how to build a linear regression model using the whole dataset. If we build it that way, there is no way to tell how the model will perform with new data. So the preferred practice is to split your dataset into a 80:20 sample (training:test), then, build the model on the 80% sample and then use the model thus built to predict the dependent variable on test data.\n",
    "\n",
    "Doing it this way, we will have the model predicted values for the 20% data (test) as well as the actuals (from the original dataset). By calculating accuracy measures (like min_max accuracy) and error rates (MAPE or MSE), we can find out the prediction accuracy of the model. Now, lets see how to actually do this.."
   ]
  },
  {
   "cell_type": "markdown",
   "metadata": {},
   "source": [
    "Step 1: Create the training (development) and test (validation) data samples from original data."
   ]
  },
  {
   "cell_type": "code",
   "execution_count": 37,
   "metadata": {},
   "outputs": [
    {
     "name": "stdout",
     "output_type": "stream",
     "text": [
      "   speed dist\n",
      "16    13   26\n",
      "13    12   20\n",
      "27    16   32\n",
      "3      7    4\n",
      "22    14   60\n",
      "46    24   70\n",
      "   speed dist\n",
      "1      4    2\n",
      "4      7   22\n",
      "8     10   26\n",
      "20    14   26\n",
      "26    15   54\n",
      "31    17   50\n",
      "37    19   46\n",
      "39    20   32\n",
      "40    20   48\n",
      "42    20   56\n"
     ]
    }
   ],
   "source": [
    "# Create Training and Test data -\n",
    "set.seed(100)  # setting seed to reproduce results of random sampling\n",
    "trainingRowIndex <- sample(1:nrow(cars), 0.8*nrow(cars))  # row indices for training data\n",
    "trainingData <- cars[trainingRowIndex, ]  # model training data\n",
    "print(head(trainingData))\n",
    "testData  <- cars[-trainingRowIndex, ]   # test data\n",
    "print(testData)"
   ]
  },
  {
   "cell_type": "markdown",
   "metadata": {},
   "source": [
    "Step 2: Develop the model on the training data and use it to predict the distance on test data"
   ]
  },
  {
   "cell_type": "code",
   "execution_count": 38,
   "metadata": {},
   "outputs": [
    {
     "name": "stdout",
     "output_type": "stream",
     "text": [
      "\n",
      "Call:\n",
      "lm(formula = dist ~ speed, data = trainingData)\n",
      "\n",
      "Coefficients:\n",
      "(Intercept)        speed  \n",
      "     -22.66         4.32  \n",
      "\n",
      "    1     4     8    20    26    31    37    39    40    42 \n",
      "-5.39  7.56 20.50 37.77 42.09 50.72 59.35 63.67 63.67 63.67 \n"
     ]
    }
   ],
   "source": [
    "# Build the model on training data -\n",
    "lmMod <- lm(dist ~ speed, data=trainingData)  # build the model\n",
    "print(lmMod)\n",
    "distPred <- predict(lmMod, testData)  # predict distance\n",
    "print(distPred)"
   ]
  },
  {
   "cell_type": "markdown",
   "metadata": {},
   "source": [
    "Step 3: Review diagnostic measures."
   ]
  },
  {
   "cell_type": "code",
   "execution_count": 39,
   "metadata": {},
   "outputs": [
    {
     "data": {
      "text/plain": [
       "\n",
       "Call:\n",
       "lm(formula = dist ~ speed, data = trainingData)\n",
       "\n",
       "Residuals:\n",
       "   Min     1Q Median     3Q    Max \n",
       "-23.35 -10.77  -2.14   9.25  42.23 \n",
       "\n",
       "Coefficients:\n",
       "            Estimate Std. Error t value Pr(>|t|)    \n",
       "(Intercept)  -22.658      7.999   -2.83   0.0073 ** \n",
       "speed          4.316      0.487    8.86  8.7e-11 ***\n",
       "---\n",
       "Signif. codes:  0 '***' 0.001 '**' 0.01 '*' 0.05 '.' 0.1 ' ' 1\n",
       "\n",
       "Residual standard error: 15.8 on 38 degrees of freedom\n",
       "Multiple R-squared:  0.674,\tAdjusted R-squared:  0.665 \n",
       "F-statistic: 78.6 on 1 and 38 DF,  p-value: 8.73e-11\n"
      ]
     },
     "metadata": {},
     "output_type": "display_data"
    }
   ],
   "source": [
    "summary (lmMod)  # model summary"
   ]
  },
  {
   "cell_type": "markdown",
   "metadata": {},
   "source": [
    "Step 4: Calculate prediction accuracy and error rates"
   ]
  },
  {
   "cell_type": "code",
   "execution_count": 40,
   "metadata": {},
   "outputs": [
    {
     "name": "stdout",
     "output_type": "stream",
     "text": [
      "           actuals predicteds\n",
      "actuals      1.000      0.828\n",
      "predicteds   0.828      1.000\n"
     ]
    },
    {
     "data": {
      "text/html": [
       "<table>\n",
       "<thead><tr><th></th><th scope=col>actuals</th><th scope=col>predicteds</th></tr></thead>\n",
       "<tbody>\n",
       "\t<tr><th scope=row>1</th><td> 2   </td><td>-5.39</td></tr>\n",
       "\t<tr><th scope=row>4</th><td>22   </td><td> 7.56</td></tr>\n",
       "\t<tr><th scope=row>8</th><td>26   </td><td>20.50</td></tr>\n",
       "\t<tr><th scope=row>20</th><td>26   </td><td>37.77</td></tr>\n",
       "\t<tr><th scope=row>26</th><td>54   </td><td>42.09</td></tr>\n",
       "\t<tr><th scope=row>31</th><td>50   </td><td>50.72</td></tr>\n",
       "</tbody>\n",
       "</table>\n"
      ],
      "text/latex": [
       "\\begin{tabular}{r|ll}\n",
       "  & actuals & predicteds\\\\\n",
       "\\hline\n",
       "\t1 &  2    & -5.39\\\\\n",
       "\t4 & 22    &  7.56\\\\\n",
       "\t8 & 26    & 20.50\\\\\n",
       "\t20 & 26    & 37.77\\\\\n",
       "\t26 & 54    & 42.09\\\\\n",
       "\t31 & 50    & 50.72\\\\\n",
       "\\end{tabular}\n"
      ],
      "text/markdown": [
       "\n",
       "| <!--/--> | actuals | predicteds | \n",
       "|---|---|---|---|---|---|\n",
       "| 1 |  2    | -5.39 | \n",
       "| 4 | 22    |  7.56 | \n",
       "| 8 | 26    | 20.50 | \n",
       "| 20 | 26    | 37.77 | \n",
       "| 26 | 54    | 42.09 | \n",
       "| 31 | 50    | 50.72 | \n",
       "\n",
       "\n"
      ],
      "text/plain": [
       "   actuals predicteds\n",
       "1   2      -5.39     \n",
       "4  22       7.56     \n",
       "8  26      20.50     \n",
       "20 26      37.77     \n",
       "26 54      42.09     \n",
       "31 50      50.72     "
      ]
     },
     "metadata": {},
     "output_type": "display_data"
    }
   ],
   "source": [
    "actuals_preds <- data.frame(cbind(actuals=testData$dist, predicteds=distPred))  # make actuals_predicteds dataframe.\n",
    "correlation_accuracy <- cor(actuals_preds)  # 82.7%\n",
    "print(correlation_accuracy)\n",
    "head(actuals_preds)"
   ]
  },
  {
   "cell_type": "code",
   "execution_count": 41,
   "metadata": {},
   "outputs": [
    {
     "name": "stdout",
     "output_type": "stream",
     "text": [
      "[1] 0.38\n",
      "[1] 0.7\n"
     ]
    }
   ],
   "source": [
    "min_max_accuracy <- mean(apply(actuals_preds, 1, min) / apply(actuals_preds, 1, max))  \n",
    "print(min_max_accuracy)\n",
    "# => 58.42%, min_max accuracy\n",
    "mape <- mean(abs((actuals_preds$predicteds - actuals_preds$actuals))/actuals_preds$actuals)\n",
    "print(mape)\n",
    "# => 48.38%, mean absolute percentage deviation"
   ]
  }
 ],
 "metadata": {
  "kernelspec": {
   "display_name": "R",
   "language": "R",
   "name": "ir"
  },
  "language_info": {
   "codemirror_mode": "r",
   "file_extension": ".r",
   "mimetype": "text/x-r-source",
   "name": "R",
   "pygments_lexer": "r",
   "version": "3.5.1"
  }
 },
 "nbformat": 4,
 "nbformat_minor": 2
}
