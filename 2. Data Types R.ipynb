{
 "cells": [
  {
   "cell_type": "markdown",
   "metadata": {},
   "source": [
    "Initially in developing any application or doing any programming in any programming language, you might have seen that variables are required to store data that you will be using within a program. Also you might have noticed (usually in common or most programming languages like C or C++) that those variables are assigned with a type and that variable has to assign that type of data only. In this chapter you will learn about the concept of data types that R programming uses within its script.\n",
    "\n",
    "\n",
    "There are several basic data types in R which are of frequent occurrence in coding R calculations and programs. Though seemingly in the clear, they can at a halt deliver surprises. Here you will try to understand all of the different forms of data type well by direct testing with the R code."
   ]
  },
  {
   "cell_type": "markdown",
   "metadata": {},
   "source": [
    "Here is the list of all the data types provided by R:\n",
    "1. Numeric\n",
    "2. Integer\n",
    "3. Complex\n",
    "4. Logical\n",
    "5. Character"
   ]
  },
  {
   "cell_type": "markdown",
   "metadata": {},
   "source": [
    "<img src=\"https://lh3.googleusercontent.com/-wchvdtMNQNg/XOvr_DgCJTI/AAAAAAAAcNQ/s0aPxnDNNIALdgwGKsCKKAJjML3HrhZUgCK8BGAs/s0/2019-05-27.png\"/>"
   ]
  },
  {
   "cell_type": "code",
   "execution_count": null,
   "metadata": {},
   "outputs": [],
   "source": []
  }
 ],
 "metadata": {
  "kernelspec": {
   "display_name": "R",
   "language": "R",
   "name": "ir"
  },
  "language_info": {
   "codemirror_mode": "r",
   "file_extension": ".r",
   "mimetype": "text/x-r-source",
   "name": "R",
   "pygments_lexer": "r",
   "version": "3.5.1"
  }
 },
 "nbformat": 4,
 "nbformat_minor": 2
}
