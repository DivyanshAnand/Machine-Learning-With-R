{
 "cells": [
  {
   "cell_type": "markdown",
   "metadata": {},
   "source": [
    "Will learn about the basics of R programming and you will start this basic with the conventional \"Hello World\" program. Based on the requirements, you can program either in R command prompt or you can simply use an R script file for writing your program. So let's start coding and learn the basic syntax.\n",
    "\n",
    "Once you have setup the environment for R, it is easy to start R command prompt by simply typing the command mentioned below at your command prompt:\n",
    "This command will let you launch the R interpreter with a symbol like this '>' and you start writing the program using command prompt:"
   ]
  },
  {
   "cell_type": "code",
   "execution_count": 3,
   "metadata": {},
   "outputs": [
    {
     "name": "stdout",
     "output_type": "stream",
     "text": [
      "[1] \"Hello - World!\"\n"
     ]
    }
   ],
   "source": [
    "newStr <- \"Hello - World!\"\n",
    "print (newStr)"
   ]
  },
  {
   "cell_type": "markdown",
   "metadata": {},
   "source": [
    "Now write the same program using R script:\n",
    "\n",
    "Generally, you will write your programs in script files and then you implement those scripts at your command prompt using the help of R interpreter called Rscript. Here is the Hello World Script:"
   ]
  },
  {
   "cell_type": "code",
   "execution_count": 5,
   "metadata": {},
   "outputs": [
    {
     "name": "stdout",
     "output_type": "stream",
     "text": [
      "[1] \"Hello, World!\"\n"
     ]
    }
   ],
   "source": [
    "myString <- \"Hello, World!\"\n",
    "\n",
    "print ( myString)"
   ]
  },
  {
   "cell_type": "markdown",
   "metadata": {},
   "source": [
    "Save the code you have written in a file \"helo.R\" and execute this code at Linux command prompt using the below mentioned command. Whatever be your OS, either Windows or other system, the command syntax will stay same."
   ]
  },
  {
   "cell_type": "raw",
   "metadata": {},
   "source": [
    "$ Rscript test.R"
   ]
  },
  {
   "cell_type": "markdown",
   "metadata": {},
   "source": [
    "**Comments**\n",
    "\n",
    "Comments are like helping text within your R source code and these statements get ignored by the interpreter while running your actual program. The single line comment is written with the starting symbol '#' in the beginning of the statement as given below:"
   ]
  },
  {
   "cell_type": "code",
   "execution_count": null,
   "metadata": {},
   "outputs": [],
   "source": [
    "# My first R program is Hello - World\n"
   ]
  }
 ],
 "metadata": {
  "kernelspec": {
   "display_name": "R",
   "language": "R",
   "name": "ir"
  },
  "language_info": {
   "codemirror_mode": "r",
   "file_extension": ".r",
   "mimetype": "text/x-r-source",
   "name": "R",
   "pygments_lexer": "r",
   "version": "3.5.1"
  }
 },
 "nbformat": 4,
 "nbformat_minor": 2
}
