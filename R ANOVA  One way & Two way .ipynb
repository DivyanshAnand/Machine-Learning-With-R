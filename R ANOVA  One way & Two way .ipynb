{
 "cells": [
  {
   "cell_type": "markdown",
   "metadata": {},
   "source": [
    "## What is ANOVA?"
   ]
  },
  {
   "cell_type": "markdown",
   "metadata": {},
   "source": [
    "- Analysis of Variance(ANOVA) helps you test differences between two or more group means. \n",
    "- ANOVA test is centered around the different sources of variation (variation between and within group) in a typical variable. \n",
    "- A primarily ANOVA test provides evidence of the existence of the mean equality between the group. \n",
    "- This statistical method is an extension of the t-test. \n",
    "- It is used in a situation where the factor variable has more than one group.\n",
    "    * One way ANOVA\n",
    "    * Pairwise comparison\n",
    "    * Two way ANOVA"
   ]
  },
  {
   "cell_type": "markdown",
   "metadata": {},
   "source": [
    "**One-way ANOVA**\n",
    "The one-way analysis of variance (ANOVA), also known as one-factor ANOVA, is an extension of independent two-samples t-test for comparing means in a situation where there are more than two groups. In one-way ANOVA, the data is organized into several groups base on one single grouping variable (also called factor variable). This tutorial describes the basic principle of the one-way ANOVA test and provides practical anova test examples in R software.\n",
    "\n",
    "ANOVA test hypotheses:\n",
    "\n",
    "Null hypothesis: the means of the different groups are the same\n",
    "Alternative hypothesis: At least one sample mean is not equal to the others.\n",
    "\n",
    "There are many situations where you need to compare the mean between multiple groups. For instance, the marketing department wants to know if three teams have the same sales performance.\n",
    "\n",
    "Team: 3 level factor: A, B, and C\n",
    "Sale: A measure of performance\n",
    "The ANOVA test can tell if the three groups have similar performances.\n",
    "\n",
    "To clarify if the data comes from the same population, you can perform a one-way analysis of variance (one-way ANOVA hereafter). This test, like any other statistical tests, gives evidence whether the H0 hypothesis can be accepted or rejected.\n",
    "\n",
    "**Hypothesis in one-way ANOVA test:**\n",
    "\n",
    "H0: The means between groups are identical\n",
    "\n",
    "H3: At least, the mean of one group is different\n",
    "\n",
    "In other words, the H0 hypothesis implies that there is not enough evidence to prove the mean of the group (factor) are different from another.\n",
    "\n",
    "This test is similar to the t-test, although ANOVA test is recommended in situation with more than 2 groups. Except that, the t-test and ANOVA provide similar results.\n",
    "\n",
    "**Assumptions**\n",
    "\n",
    "We assume that each factor is randomly sampled, independent and comes from a normally distributed population with unknown but equal variances.\n",
    "\n",
    "**Interpret ANOVA test**\n",
    "\n",
    "The F-statistic is used to test if the data are from significantly different populations, i.e., different sample means.\n",
    "\n",
    "To compute the F-statistic, you need to divide the between-group variability over the within-group variability.\n",
    "\n",
    "The between-group variability reflects the differences between the groups inside all of the population. Look at the two graphs below to understand the concept of between-group variance.\n",
    "\n",
    "The left graph shows very little variation between the three group, and it is very likely that the three means tends to the overall mean (i.e., mean for the three groups).\n",
    "\n",
    "The right graph plots three distributions far apart, and none of them overlap. There is a high chance the difference between the total mean and the groups mean will be large.\n",
    "\n",
    "The within group variability considers the difference between the groups. The variation comes from the individual observations; some points might be totally different than the group means. The within group variability picks up this effect and refer to the sampling error.\n",
    "\n",
    "To understand visually the concept of within group variability, look at the graph below.\n",
    "\n",
    "The left part plots the distribution of three different groups. You increased the spread of each sample and it is clear the individual variance is large. The F-test will decrease, meaning you tend to accept the null hypothesis\n",
    "\n",
    "The right part shows exactly the same samples (identical mean) but with lower variability. It leads to an increase of the F-test and tends in favor of the alternative hypothesis.\n",
    "\n",
    "You can use both measures to construct the F-statistics. It is very intuitive to understand the F-statistic. If the numerator increases, it means the between-group variability is high, and it is likely the groups in the sample are drawn from completely different distributions.\n",
    "\n",
    "In other words, a low F-statistic indicates little or no significant difference between the group's average.\n",
    "\n",
    "**Example One way ANOVA Test**\n",
    "\n",
    "You will use the poison dataset to implement the one-way ANOVA test. The dataset contains 48 rows and 3 variables:\n",
    "\n",
    "Time: Survival time of the animal\n",
    "poison: Type of poison used: factor level: 1,2 and 3\n",
    "treat: Type of treatment used: factor level: 1,2 and 3\n",
    "Before you start to compute the ANOVA test, you need to prepare the data as follow:\n",
    "\n",
    "**Step 1:** Import the data\n",
    "\n",
    "**Step 2:** Remove unnecessary variable\n",
    "\n",
    "**Step 3:** Convert the variable poison as ordered level"
   ]
  },
  {
   "cell_type": "markdown",
   "metadata": {},
   "source": [
    "Our objective is to test the following assumption:\n",
    "\n",
    "H0: There is no difference in survival time average between group\n",
    "\n",
    "H3: The survival time average is different for at least one group.\n",
    "\n",
    "In other words, you want to know if there is a statistical difference between the mean of the survival time according to the type of poison given to the Guinea pig.\n",
    "\n",
    "You will proceed as follow:\n",
    "\n",
    "Step 1: Check the format of the variable poison\n",
    "\n",
    "Step 2: Print the summary statistic: count, mean and standard deviation\n",
    "\n",
    "Step 3: Plot a box plot\n",
    "\n",
    "Step 4: Compute the one-way ANOVA test\n",
    "\n",
    "Step 5: Run a pairwise t-test"
   ]
  },
  {
   "cell_type": "markdown",
   "metadata": {},
   "source": [
    "1. Fit a Model\n",
    "\n",
    "In the following examples lower case letters are numeric variables and upper case letters are factors."
   ]
  },
  {
   "cell_type": "code",
   "execution_count": 24,
   "metadata": {},
   "outputs": [
    {
     "ename": "ERROR",
     "evalue": "Error in terms.formula(formula, \"Error\", data = data): object 'mydataframe' not found\n",
     "output_type": "error",
     "traceback": [
      "Error in terms.formula(formula, \"Error\", data = data): object 'mydataframe' not found\nTraceback:\n",
      "1. aov(y ~ A, data = mydataframe)",
      "2. terms(formula, \"Error\", data = data)",
      "3. terms.formula(formula, \"Error\", data = data)"
     ]
    }
   ],
   "source": [
    "# One Way Anova (Completely Randomized Design)\n",
    "fit <- aov(y ~ A, data=mydataframe)"
   ]
  }
 ],
 "metadata": {
  "kernelspec": {
   "display_name": "R",
   "language": "R",
   "name": "ir"
  },
  "language_info": {
   "codemirror_mode": "r",
   "file_extension": ".r",
   "mimetype": "text/x-r-source",
   "name": "R",
   "pygments_lexer": "r",
   "version": "3.5.1"
  }
 },
 "nbformat": 4,
 "nbformat_minor": 2
}
